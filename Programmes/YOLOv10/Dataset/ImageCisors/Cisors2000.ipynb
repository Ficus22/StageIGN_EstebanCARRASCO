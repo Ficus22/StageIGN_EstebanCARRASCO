{
 "cells": [
  {
   "metadata": {},
   "cell_type": "markdown",
   "source": "## Cisors 2000",
   "id": "b08eecf4e4e5aa67"
  },
  {
   "cell_type": "code",
   "id": "initial_id",
   "metadata": {
    "collapsed": true,
    "ExecuteTime": {
     "end_time": "2025-05-27T13:54:59.067409Z",
     "start_time": "2025-05-27T13:54:59.063289Z"
    }
   },
   "source": [
    "import os\n",
    "import cv2\n",
    "import cv2"
   ],
   "outputs": [],
   "execution_count": 26
  },
  {
   "metadata": {},
   "cell_type": "markdown",
   "source": "#### Configuration",
   "id": "dbc9e31602e6033"
  },
  {
   "metadata": {
    "ExecuteTime": {
     "end_time": "2025-05-27T14:18:25.138104Z",
     "start_time": "2025-05-27T14:18:25.131415Z"
    }
   },
   "cell_type": "code",
   "source": [
    "INPUT_IMAGE_DIR = 'Test/images'\n",
    "INPUT_LABEL_DIR = 'Test/labels'\n",
    "OUTPUT_IMAGE_DIR = 'Output/images'\n",
    "OUTPUT_LABEL_DIR = 'Output/labels'\n",
    "\n",
    "PRINT_BBOX_DIR = 'BBOX30'\n",
    "\n",
    "ROWS = 2  # Découpage vertical\n",
    "COLS = 2  # Découpage horizontal\n",
    "\n",
    "# Préparation des dossiers de sortie\n",
    "os.makedirs(OUTPUT_IMAGE_DIR, exist_ok=True)\n",
    "os.makedirs(OUTPUT_LABEL_DIR, exist_ok=True)\n",
    "os.makedirs(PRINT_BBOX_DIR, exist_ok=True)"
   ],
   "id": "81bd41add069384b",
   "outputs": [],
   "execution_count": 49
  },
  {
   "metadata": {},
   "cell_type": "markdown",
   "source": "Format  des bounding boxes :  ``class`` ``x_center`` ``y_center`` `width` `height` (normalisés entre 0 et 1).",
   "id": "be5af05d751ded95"
  },
  {
   "metadata": {
    "ExecuteTime": {
     "end_time": "2025-05-27T14:18:27.003099Z",
     "start_time": "2025-05-27T14:18:26.995779Z"
    }
   },
   "cell_type": "code",
   "source": [
    "def convert_bbox(bbox, orig_w, orig_h, x_offset, y_offset, crop_w, crop_h):\n",
    "    \"\"\"\n",
    "    Convertit les coordonnées bbox d'origine en bbox relative au crop.\n",
    "\n",
    "    Args:\n",
    "        bbox (tuple[float, float, float, float]): données initiales de la bbox (x_center, y_center, width, height)\n",
    "        orig_w (int): largeur de l'image d'origine en px\n",
    "        orig_h (int): hauteur de l'image d'origine en px\n",
    "        x_offset (int): décalage sur x du crop par rapport à l'image d'origine en px\n",
    "        y_offset (int): décalage sur y du crop par rapport à l'image d'origine en px\n",
    "        crop_w (int): largeur du crop en px\n",
    "        crop_h (int): hauteur du crop en px\n",
    "\n",
    "    Returns:\n",
    "        tuple[float, float, float, float]: données convertit de la bbox relativement au crop\n",
    "    \"\"\"\n",
    "\n",
    "    cx, cy, w, h = bbox\n",
    "\n",
    "    # Conversion des coordonnées normalisées en cordonnées absolues (px)\n",
    "    abs_cx = cx * orig_w\n",
    "    abs_cy = cy * orig_h\n",
    "    abs_w = w * orig_w\n",
    "    abs_h = h * orig_h\n",
    "\n",
    "    bbox_area = abs_w * abs_h     # Aire de la bbox\n",
    "    ratio_min = 0.3       # Ratio min pour une bbox valide\n",
    "\n",
    "\n",
    "    x1 = abs_cx - abs_w / 2  # Coin Gauche\n",
    "    y1 = abs_cy - abs_h / 2  # Coin Haut\n",
    "    x2 = abs_cx + abs_w / 2  # Coin Droit\n",
    "    y2 = abs_cy + abs_h / 2  # Coin Bas\n",
    "\n",
    "\n",
    "    # Détermination des coupes\n",
    "    crop_x1, crop_y1 = x_offset, y_offset\n",
    "    crop_x2, crop_y2 = x_offset + crop_w, y_offset + crop_h\n",
    "\n",
    "    # On détecte si une bbox est partiellement ou entièrement dans le crop\n",
    "    inter_x1 = max(x1, crop_x1)\n",
    "    inter_y1 = max(y1, crop_y1)\n",
    "    inter_x2 = min(x2, crop_x2)\n",
    "    inter_y2 = min(y2, crop_y2)\n",
    "\n",
    "    if inter_x1 >= inter_x2 or inter_y1 >= inter_y2:\n",
    "        return None  # Le rectangle d'intersection est vide (la bbox n'est pas dans le crop)\n",
    "\n",
    "    # Nouvelle box dans le crop\n",
    "    new_cx = (inter_x1 + inter_x2) / 2 - crop_x1   # on fait moins crop_x1 pour repositionner dans le repère local du crop\n",
    "    new_cy = (inter_y1 + inter_y2) / 2 - crop_y1\n",
    "    new_w = inter_x2 - inter_x1\n",
    "    new_h = inter_y2 - inter_y1\n",
    "\n",
    "    #print(new_w, new_h, bbox_area)\n",
    "\n",
    "    if ( new_h * new_w ) / bbox_area < ratio_min:\n",
    "        #print('je suis rentré dans la condition')\n",
    "        return None  # La bbox est trop coupée\n",
    "\n",
    "    # Normalisation pour le format YOLO\n",
    "    return [\n",
    "        new_cx / crop_w,\n",
    "        new_cy / crop_h,\n",
    "        new_w / crop_w,\n",
    "        new_h / crop_h\n",
    "    ]"
   ],
   "id": "c6234648ac9fc094",
   "outputs": [],
   "execution_count": 50
  },
  {
   "metadata": {
    "ExecuteTime": {
     "end_time": "2025-05-27T14:18:30.819037Z",
     "start_time": "2025-05-27T14:18:30.786379Z"
    }
   },
   "cell_type": "code",
   "source": [
    "for img_file in os.listdir(INPUT_IMAGE_DIR):\n",
    "    if not img_file.lower().endswith(('.jpg', '.jpeg', '.png')):\n",
    "        continue\n",
    "\n",
    "    img_path = os.path.join(INPUT_IMAGE_DIR, img_file)\n",
    "    label_path = os.path.join(INPUT_LABEL_DIR, os.path.splitext(img_file)[0] + '.txt')\n",
    "\n",
    "    img = cv2.imread(img_path)\n",
    "    orig_h, orig_w = img.shape[:2] # On récupère la taille de l'image en px\n",
    "    crop_h = orig_h // ROWS\n",
    "    crop_w = orig_w // COLS\n",
    "\n",
    "    # Chargement des labels YOLO\n",
    "    bboxes = []\n",
    "    if os.path.exists(label_path):\n",
    "        with open(label_path, 'r') as f:\n",
    "            for line in f:\n",
    "                parts = line.strip().split()\n",
    "                if len(parts) != 5:\n",
    "                    continue\n",
    "                cls, x, y, w, h = map(float, parts)\n",
    "                bboxes.append((int(cls), [x, y, w, h]))\n",
    "\n",
    "    # Découpe de l’image\n",
    "    for i in range(ROWS):\n",
    "        for j in range(COLS):\n",
    "            x_offset = j * crop_w\n",
    "            y_offset = i * crop_h\n",
    "\n",
    "            crop = img[y_offset:y_offset + crop_h, x_offset:x_offset + crop_w]\n",
    "            crop_name = f\"{os.path.splitext(img_file)[0]}_{i}_{j}.jpg\"\n",
    "            crop_label = f\"{os.path.splitext(img_file)[0]}_{i}_{j}.txt\"\n",
    "\n",
    "            cv2.imwrite(os.path.join(OUTPUT_IMAGE_DIR, crop_name), crop)\n",
    "\n",
    "            # On construit le fichier label\n",
    "            new_labels = []\n",
    "            for cls, bbox in bboxes:\n",
    "                new_bbox = convert_bbox(bbox, orig_w, orig_h, x_offset, y_offset, crop_w, crop_h)\n",
    "                if new_bbox:\n",
    "                    new_labels.append(f\"{cls} {' '.join(f'{v:.6f}' for v in new_bbox)}\")\n",
    "\n",
    "            # On écrit le fichier label\n",
    "            with open(os.path.join(OUTPUT_LABEL_DIR, crop_label), 'w') as f:\n",
    "                f.write('\\n'.join(new_labels) + '\\n' if new_labels else '')"
   ],
   "id": "a8a23e1501c07374",
   "outputs": [
    {
     "name": "stdout",
     "output_type": "stream",
     "text": [
      "224.67000000000002 101.15999999999998 22727.617199999997\n",
      "72.3 107.59999999999997 7779.48\n",
      "28.350000000000023 203.11999999999998 31282.263199999998\n",
      "je suis rentré dans la condition\n",
      "209.96000000000004 58.565 12297.3572\n",
      "107.44999999999999 85.65 22439.857999999997\n",
      "209.56000000000003 39.964999999999975 35342.294\n",
      "je suis rentré dans la condition\n",
      "95.07 74.04 7038.9828\n",
      "172.96000000000004 162.03000000000003 28024.7088\n",
      "16.329999999999927 160.70999999999998 2693.7968\n",
      "136.93000000000006 163.165 26743.798300000002\n",
      "70.09000000000003 203.11999999999998 31282.263199999998\n",
      "209.62000000000012 66.28500000000003 36237.0094\n",
      "98.34999999999991 66.66499999999999 6556.9945\n",
      "28.350000000000023 114.65999999999997 31282.263199999998\n",
      "je suis rentré dans la condition\n",
      "107.44999999999999 123.18999999999994 22439.857999999997\n",
      "209.56000000000003 128.685 35342.294\n",
      "20.97999999999996 95.53999999999996 8893.2648\n",
      "je suis rentré dans la condition\n",
      "16.329999999999927 4.25 2693.7968\n",
      "je suis rentré dans la condition\n",
      "136.93000000000006 32.14499999999998 26743.798300000002\n",
      "je suis rentré dans la condition\n",
      "70.09000000000003 114.65999999999997 31282.263199999998\n",
      "je suis rentré dans la condition\n",
      "209.62000000000012 106.58499999999998 36237.0094\n",
      "213.45000000000005 112.85000000000002 24087.832499999997\n",
      "38.96500000000003 92.38999999999999 3600.4383000000003\n",
      "111.81999999999994 156.07500000000005 17563.5674\n",
      "36.8599999999999 70.89999999999998 2613.3740000000003\n",
      "71.1400000000001 95.53999999999996 8893.2648\n"
     ]
    }
   ],
   "execution_count": 51
  },
  {
   "metadata": {},
   "cell_type": "markdown",
   "source": "#### Pour visualiser les bbox",
   "id": "7947b480e4da080"
  },
  {
   "metadata": {
    "ExecuteTime": {
     "end_time": "2025-05-27T13:54:59.200056Z",
     "start_time": "2025-05-27T13:54:59.193095Z"
    }
   },
   "cell_type": "code",
   "source": [
    "def draw_yolo_bboxes(image_path, label_path, class_names=None):\n",
    "    # Charger l'image\n",
    "    image = cv2.imread(image_path)\n",
    "    h, w = image.shape[:2]\n",
    "\n",
    "    # Lire les annotations YOLO\n",
    "    with open(label_path, 'r') as f:\n",
    "        lines = f.readlines()\n",
    "\n",
    "    for line in lines:\n",
    "        parts = line.strip().split()\n",
    "        class_id = int(parts[0])\n",
    "        x_center, y_center, bbox_w, bbox_h = map(float, parts[1:])\n",
    "\n",
    "        # Convertir en coordonnées absolues\n",
    "        x1 = int((x_center - bbox_w / 2) * w)\n",
    "        y1 = int((y_center - bbox_h / 2) * h)\n",
    "        x2 = int((x_center + bbox_w / 2) * w)\n",
    "        y2 = int((y_center + bbox_h / 2) * h)\n",
    "\n",
    "        # Dessiner la bbox\n",
    "        cv2.rectangle(image, (x1, y1), (x2, y2), (0, 255, 0), 2)\n",
    "\n",
    "        # Afficher le nom de la classe si fourni\n",
    "        if class_names:\n",
    "            label = class_names[class_id]\n",
    "            cv2.putText(image, label, (x1, y1 - 10), cv2.FONT_HERSHEY_SIMPLEX,\n",
    "                        0.5, (0, 255, 0), 1, cv2.LINE_AA)\n",
    "\n",
    "    output_path = os.path.join(PRINT_BBOX_DIR, f\"bbox_{os.path.basename(image_path)}\")\n",
    "    cv2.imwrite(output_path, image)"
   ],
   "id": "f192ef63f554950d",
   "outputs": [],
   "execution_count": 30
  },
  {
   "metadata": {},
   "cell_type": "markdown",
   "source": "##### Visualiser toutes les images originales",
   "id": "aa0f3f6ea73a8b6c"
  },
  {
   "metadata": {
    "ExecuteTime": {
     "end_time": "2025-05-27T14:16:34.516381Z",
     "start_time": "2025-05-27T14:16:34.493174Z"
    }
   },
   "cell_type": "code",
   "source": [
    "for image in os.listdir(INPUT_IMAGE_DIR):\n",
    "    draw_yolo_bboxes(f'{INPUT_IMAGE_DIR}/{image}', f'{INPUT_LABEL_DIR}/{os.path.splitext(image)[0]}.txt')"
   ],
   "id": "675aab64c12b60e8",
   "outputs": [],
   "execution_count": 46
  },
  {
   "metadata": {},
   "cell_type": "markdown",
   "source": "![image_originale](BBOX50/bbox__99191421_gettyimages-801124046_jpg.rf.cf018c6930c40b99edb7e54d07d85c6c.jpg)",
   "id": "118f93f1ff68dc10"
  },
  {
   "metadata": {},
   "cell_type": "markdown",
   "source": "##### Visualiser toutes les images coupées",
   "id": "fecc8be7553bf83"
  },
  {
   "metadata": {
    "ExecuteTime": {
     "end_time": "2025-05-27T14:19:07.951830Z",
     "start_time": "2025-05-27T14:19:07.923937Z"
    }
   },
   "cell_type": "code",
   "source": [
    "for image in os.listdir(OUTPUT_IMAGE_DIR):\n",
    "    draw_yolo_bboxes(f'{OUTPUT_IMAGE_DIR}/{image}', f'{OUTPUT_LABEL_DIR}/{os.path.splitext(image)[0]}.txt')\n"
   ],
   "id": "22e28012907aedab",
   "outputs": [],
   "execution_count": 52
  },
  {
   "metadata": {},
   "cell_type": "markdown",
   "source": "Résultat des découpes avec un ration de 50",
   "id": "b3eb3e7478ad3de2"
  },
  {
   "metadata": {},
   "cell_type": "markdown",
   "source": [
    "![decoupe1](BBOX50/bbox__99191421_gettyimages-801124046_jpg.rf.cf018c6930c40b99edb7e54d07d85c6c_0_0.jpg)\n",
    "![decoupe2](BBOX50/bbox__99191421_gettyimages-801124046_jpg.rf.cf018c6930c40b99edb7e54d07d85c6c_0_1.jpg)\n",
    "![decoupe3](BBOX50/bbox__99191421_gettyimages-801124046_jpg.rf.cf018c6930c40b99edb7e54d07d85c6c_1_0.jpg)\n",
    "![decoupe4](BBOX50/bbox__99191421_gettyimages-801124046_jpg.rf.cf018c6930c40b99edb7e54d07d85c6c_1_1.jpg)"
   ],
   "id": "6e73c5f82875c1bf"
  },
  {
   "metadata": {},
   "cell_type": "markdown",
   "source": "Résultat des découpes avec un ration de 30",
   "id": "b76df56c87ff07d9"
  },
  {
   "metadata": {},
   "cell_type": "markdown",
   "source": [
    "![decoupe1](BBOX30/bbox__99191421_gettyimages-801124046_jpg.rf.cf018c6930c40b99edb7e54d07d85c6c_0_0.jpg)\n",
    "![decoupe2](BBOX30/bbox__99191421_gettyimages-801124046_jpg.rf.cf018c6930c40b99edb7e54d07d85c6c_0_1.jpg)\n",
    "![decoupe3](BBOX30/bbox__99191421_gettyimages-801124046_jpg.rf.cf018c6930c40b99edb7e54d07d85c6c_1_0.jpg)\n",
    "![decoupe4](BBOX30/bbox__99191421_gettyimages-801124046_jpg.rf.cf018c6930c40b99edb7e54d07d85c6c_1_1.jpg)"
   ],
   "id": "7c13183bb7da8ad6"
  }
 ],
 "metadata": {
  "kernelspec": {
   "display_name": "Python 3",
   "language": "python",
   "name": "python3"
  },
  "language_info": {
   "codemirror_mode": {
    "name": "ipython",
    "version": 2
   },
   "file_extension": ".py",
   "mimetype": "text/x-python",
   "name": "python",
   "nbconvert_exporter": "python",
   "pygments_lexer": "ipython2",
   "version": "2.7.6"
  }
 },
 "nbformat": 4,
 "nbformat_minor": 5
}
