{
 "cells": [
  {
   "cell_type": "markdown",
   "id": "be522eec",
   "metadata": {},
   "source": [
    "# YOLO Training"
   ]
  },
  {
   "cell_type": "code",
   "execution_count": null,
   "id": "04536d1e",
   "metadata": {
    "vscode": {
     "languageId": "plaintext"
    }
   },
   "outputs": [],
   "source": []
  }
 ],
 "metadata": {
  "language_info": {
   "name": "python"
  }
 },
 "nbformat": 4,
 "nbformat_minor": 5
}
