{
 "cells": [
  {
   "cell_type": "markdown",
   "id": "b41af0a8b0e614c4",
   "metadata": {},
   "source": [
    "## Image upgrader pipeline and program"
   ]
  },
  {
   "cell_type": "markdown",
   "id": "c3385d61cf6491e2",
   "metadata": {},
   "source": [
    "I tried to use original images coming from the GDH but my trained model didn't succeed to recognize those. Thus I chose to try an implementation of an image upgrader.\n",
    "Under, the original image:\n"
   ]
  },
  {
   "cell_type": "markdown",
   "id": "1cce83c9ef72e630",
   "metadata": {},
   "source": [
    "![OriginalImage](orginalimage.jpg)"
   ]
  },
  {
   "cell_type": "markdown",
   "id": "82c7625094fe2997",
   "metadata": {},
   "source": [
    "#### 1- Contrast and brightness"
   ]
  },
  {
   "cell_type": "code",
   "execution_count": 8,
   "id": "d6ada072d0ba2c99",
   "metadata": {
    "ExecuteTime": {
     "end_time": "2025-05-28T09:11:45.985576Z",
     "start_time": "2025-05-28T09:11:45.144124Z"
    }
   },
   "outputs": [],
   "source": [
    "import cv2\n",
    "import numpy as np\n",
    "import os\n",
    "import random"
   ]
  },
  {
   "cell_type": "code",
   "execution_count": 9,
   "id": "2862bf8e2f446727",
   "metadata": {
    "ExecuteTime": {
     "end_time": "2025-05-14T14:03:16.664450Z",
     "start_time": "2025-05-14T14:03:16.613234Z"
    }
   },
   "outputs": [],
   "source": [
    "image = cv2.imread('orginalimage.jpg')"
   ]
  },
  {
   "cell_type": "code",
   "execution_count": 10,
   "id": "d24342d0c4bc9f50",
   "metadata": {
    "ExecuteTime": {
     "end_time": "2025-05-14T14:03:16.754272Z",
     "start_time": "2025-05-14T14:03:16.718117Z"
    }
   },
   "outputs": [
    {
     "data": {
      "text/plain": [
       "True"
      ]
     },
     "execution_count": 10,
     "metadata": {},
     "output_type": "execute_result"
    }
   ],
   "source": [
    "brightness = -200 #-150\n",
    "contrast = 3.3    # 3.5\n",
    "\n",
    "image2 = cv2.addWeighted(image, contrast, np.zeros(image.shape, image.dtype), 0, brightness)\n",
    "\n",
    "#Save the image\n",
    "cv2.imwrite('modified_image1.jpg', image2)"
   ]
  },
  {
   "cell_type": "markdown",
   "id": "51f622d933c2eee7",
   "metadata": {},
   "source": [
    "![ModifiedImage1](modified_image1.jpg)"
   ]
  },
  {
   "cell_type": "markdown",
   "id": "e5d5f96d26700ec",
   "metadata": {},
   "source": [
    "#### 2- Sharpening"
   ]
  },
  {
   "cell_type": "code",
   "execution_count": 11,
   "id": "d34f566271d25927",
   "metadata": {
    "ExecuteTime": {
     "end_time": "2025-05-14T14:03:16.813887Z",
     "start_time": "2025-05-14T14:03:16.772745Z"
    }
   },
   "outputs": [
    {
     "data": {
      "text/plain": [
       "True"
      ]
     },
     "execution_count": 11,
     "metadata": {},
     "output_type": "execute_result"
    }
   ],
   "source": [
    "# Create the sharpening kernel\n",
    "kernel = np.array([[0, -1, 0], [-1, 5, -1], [0, -1, 0]])\n",
    "\n",
    "# Sharpen the image\n",
    "image3 = cv2.filter2D(image2, -1, kernel)\n",
    "\n",
    "#Save the image\n",
    "cv2.imwrite('modified_image2.jpg', image3)"
   ]
  },
  {
   "cell_type": "markdown",
   "id": "34cd117718c2d38a",
   "metadata": {},
   "source": [
    "![ModifiedImage2](modified_image2.jpg)"
   ]
  },
  {
   "cell_type": "markdown",
   "id": "7f9ca8ab40844bd6",
   "metadata": {},
   "source": [
    "#### 3- Inverse transform"
   ]
  },
  {
   "cell_type": "code",
   "execution_count": 12,
   "id": "ab2d5b8295895d56",
   "metadata": {
    "ExecuteTime": {
     "end_time": "2025-05-14T14:03:16.868968Z",
     "start_time": "2025-05-14T14:03:16.832755Z"
    }
   },
   "outputs": [
    {
     "data": {
      "text/plain": [
       "True"
      ]
     },
     "execution_count": 12,
     "metadata": {},
     "output_type": "execute_result"
    }
   ],
   "source": [
    "image4 = 255 - image3\n",
    "\n",
    "#Save the image\n",
    "cv2.imwrite('modified_image3.jpg', image4)"
   ]
  },
  {
   "cell_type": "markdown",
   "id": "51f2d44eba3db363",
   "metadata": {},
   "source": [
    "![ModifiedImage3](modified_image3.jpg)"
   ]
  },
  {
   "cell_type": "markdown",
   "id": "4902c484c47d5522",
   "metadata": {},
   "source": [
    "### 4- Générateur complet"
   ]
  },
  {
   "cell_type": "code",
   "execution_count": 13,
   "id": "e770e6ef04553eed",
   "metadata": {
    "ExecuteTime": {
     "end_time": "2025-05-20T09:32:58.028110Z",
     "start_time": "2025-05-20T09:32:58.011250Z"
    }
   },
   "outputs": [],
   "source": [
    "#%cd ..\n",
    "#%cd FrameExtractor/frames/Record_2022-6-28_13-9-17_csi0.mp4"
   ]
  },
  {
   "cell_type": "code",
   "execution_count": 14,
   "id": "3e45d4620f0836d7",
   "metadata": {
    "ExecuteTime": {
     "end_time": "2025-05-20T09:34:49.151714Z",
     "start_time": "2025-05-20T09:34:49.138837Z"
    }
   },
   "outputs": [
    {
     "ename": "FileNotFoundError",
     "evalue": "[Errno 2] No such file or directory: 'FrameExtractor/frames/Record_2022-6-28_13-9-17_csi0.mp4'",
     "output_type": "error",
     "traceback": [
      "\u001b[31m---------------------------------------------------------------------------\u001b[39m",
      "\u001b[31mFileNotFoundError\u001b[39m                         Traceback (most recent call last)",
      "\u001b[36mCell\u001b[39m\u001b[36m \u001b[39m\u001b[32mIn[14]\u001b[39m\u001b[32m, line 5\u001b[39m\n\u001b[32m      2\u001b[39m nombre_images = \u001b[32m100\u001b[39m\n\u001b[32m      3\u001b[39m images_choisies = []\n\u001b[32m----> \u001b[39m\u001b[32m5\u001b[39m fichiers_images = [image \u001b[38;5;28;01mfor\u001b[39;00m image \u001b[38;5;129;01min\u001b[39;00m \u001b[43mos\u001b[49m\u001b[43m.\u001b[49m\u001b[43mlistdir\u001b[49m\u001b[43m(\u001b[49m\u001b[43mdossier\u001b[49m\u001b[43m)\u001b[49m \u001b[38;5;28;01mif\u001b[39;00m image.lower().endswith(\u001b[33m'\u001b[39m\u001b[33m.jpg\u001b[39m\u001b[33m'\u001b[39m)]\n\u001b[32m      7\u001b[39m images_choisies = random.sample(fichiers_images, k=\u001b[38;5;28mmin\u001b[39m(nombre_images, \u001b[38;5;28mlen\u001b[39m(fichiers_images)))\n\u001b[32m      9\u001b[39m images_choisies = [img \u001b[38;5;28;01mfor\u001b[39;00m img \u001b[38;5;129;01min\u001b[39;00m images_choisies]\n",
      "\u001b[31mFileNotFoundError\u001b[39m: [Errno 2] No such file or directory: 'FrameExtractor/frames/Record_2022-6-28_13-9-17_csi0.mp4'"
     ]
    }
   ],
   "source": [
    "dossier = \"FrameExtractor/frames/Record_2022-6-28_13-9-17_csi0.mp4\"\n",
    "nombre_images = 100\n",
    "images_choisies = []\n",
    "\n",
    "fichiers_images = [image for image in os.listdir(dossier) if image.lower().endswith('.jpg')]\n",
    "\n",
    "images_choisies = random.sample(fichiers_images, k=min(nombre_images, len(fichiers_images)))\n",
    "\n",
    "images_choisies = [img for img in images_choisies]\n",
    "\n",
    "print(images_choisies)"
   ]
  },
  {
   "cell_type": "code",
   "execution_count": null,
   "id": "45a6d28db1d4cd5f",
   "metadata": {
    "ExecuteTime": {
     "end_time": "2025-05-20T09:35:17.543754Z",
     "start_time": "2025-05-20T09:35:12.807645Z"
    }
   },
   "outputs": [],
   "source": [
    "for content in images_choisies:\n",
    "    image_name = content\n",
    "    #print(content)\n",
    "    image = cv2.imread(f'{dossier}/{content}')\n",
    "\n",
    "    brightness = -200 #-150\n",
    "    contrast = 3.3    # 3.5\n",
    "\n",
    "    image2 = cv2.addWeighted(image, contrast, np.zeros(image.shape, image.dtype), 0, brightness)\n",
    "\n",
    "    # Create the sharpening kernel\n",
    "    kernel = np.array([[0, -1, 0], [-1, 5, -1], [0, -1, 0]])\n",
    "\n",
    "    # Sharpen the image\n",
    "    image3 = cv2.filter2D(image2, -1, kernel)\n",
    "\n",
    "    #Save the image\n",
    "    cv2.imwrite(f'ImageUpgrader/ImagesExtraitesRetenues/Jeu2/up{image_name}', image3)\n"
   ]
  },
  {
   "cell_type": "markdown",
   "id": "16f044a6f1e1dbb6",
   "metadata": {},
   "source": [
    "## Image filtering"
   ]
  },
  {
   "cell_type": "code",
   "execution_count": null,
   "id": "2a04ed37434622a7",
   "metadata": {
    "ExecuteTime": {
     "end_time": "2025-05-26T08:56:27.256645Z",
     "start_time": "2025-05-26T08:56:27.227162Z"
    }
   },
   "outputs": [],
   "source": [
    "import PIL"
   ]
  },
  {
   "cell_type": "code",
   "execution_count": null,
   "id": "624f0f9fb06f6dbf",
   "metadata": {
    "ExecuteTime": {
     "end_time": "2025-05-26T09:04:59.071049Z",
     "start_time": "2025-05-26T09:04:59.019643Z"
    }
   },
   "outputs": [
    {
     "name": "stdout",
     "output_type": "stream",
     "text": [
      " Le volume dans le lecteur C s'appelle Windows\n",
      " Le num‚ro de s‚rie du volume est 8CD8-891B\n",
      "\n",
      " R‚pertoire de C:\\Users\\esteb\\Documents\\ESILV\\IGN\\YOLOv10-Test\\Dataset\\ImageUpgrader\n",
      "\n",
      "26/05/2025  11:04    <DIR>          .\n",
      "21/05/2025  10:37    <DIR>          ..\n",
      "13/05/2025  15:06           519ÿ698 essaim-sur-cadre.jpg\n",
      "20/05/2025  11:30    <DIR>          ImagesExtraitesRetenues\n",
      "26/05/2025  11:04            11ÿ037 ImageUpgrader.ipynb\n",
      "14/05/2025  16:03           444ÿ049 modified_image1.jpg\n",
      "14/05/2025  16:03           681ÿ689 modified_image2.jpg\n",
      "14/05/2025  16:03           681ÿ385 modified_image3.jpg\n",
      "12/05/2025  11:28           288ÿ977 orginalimage.jpg\n",
      "               6 fichier(s)        2ÿ626ÿ835 octets\n",
      "               3 R‚p(s)  108ÿ318ÿ416ÿ896 octets libres\n"
     ]
    }
   ],
   "source": [
    "#%ls"
   ]
  },
  {
   "cell_type": "code",
   "execution_count": null,
   "id": "6e06e0da9894a91",
   "metadata": {
    "ExecuteTime": {
     "end_time": "2025-05-26T12:04:04.502936Z",
     "start_time": "2025-05-26T12:04:04.495729Z"
    }
   },
   "outputs": [],
   "source": [
    "from PIL import Image\n",
    "\n",
    "def red_filtrer(old_r, old_g, old_b):\n",
    "\n",
    "    new_r = old_r    # On laisse le rouge\n",
    "    new_g = old_g // 3    # On diminue le vert\n",
    "    new_b = old_b // 3    # On diminue le bleu\n",
    "    return (new_r, new_g, new_b)\n",
    "\n",
    "def mallow_filtrer(old_r, old_g, old_b):\n",
    "\n",
    "    new_r = old_r * 1.1\n",
    "    new_g = old_g // 5\n",
    "    new_b = old_b * 1.5\n",
    "\n",
    "    #print(new_r, new_g, new_b)\n",
    "    return (int(new_r), int(new_g), int(new_b))\n",
    "\n",
    "\n",
    "def img_filter(nom_image):\n",
    "    img = Image.open(nom_image)\n",
    "\n",
    "    for y in range(img.height):\n",
    "        for x in range(img.width):\n",
    "\n",
    "            if len(img.getbands()) == 3:\n",
    "                    r, g, b = img.getpixel( (x,y) )\n",
    "                    r, g, b = mallow_filtrer(r, g, b)\n",
    "                    img.putpixel( (x, y), (r,g,b) )\n",
    "\n",
    "            elif len(img.getbands()) == 4:\n",
    "                    r, g, b, a = img.getpixel( (x,y) )\n",
    "                    r, g, b = mallow_filtrer(r, g, b)\n",
    "                    img.putpixel( (x,y), (r,g,b,a))\n",
    "\n",
    "    # img.show()\n",
    "    img.save(f'FM_{nom_image}')\n",
    "    #print(f'FM_{nom_image}')\n",
    "    return\n",
    "\n",
    "\n",
    "#img.close()"
   ]
  },
  {
   "cell_type": "code",
   "execution_count": null,
   "id": "f1a4536dab0128e7",
   "metadata": {
    "ExecuteTime": {
     "end_time": "2025-05-26T09:34:10.221024Z",
     "start_time": "2025-05-26T09:34:07.907969Z"
    }
   },
   "outputs": [],
   "source": [
    "img_filter('essaim-sur-cadre.jpg')"
   ]
  },
  {
   "cell_type": "markdown",
   "id": "d8b9679ca1116d22",
   "metadata": {},
   "source": [
    "### Dataset modification"
   ]
  },
  {
   "cell_type": "code",
   "execution_count": null,
   "id": "88e4189026eee11f",
   "metadata": {
    "ExecuteTime": {
     "end_time": "2025-05-26T12:01:18.905878Z",
     "start_time": "2025-05-26T12:01:18.851289Z"
    }
   },
   "outputs": [
    {
     "name": "stdout",
     "output_type": "stream",
     "text": [
      " Le volume dans le lecteur C s'appelle Windows\n",
      " Le num‚ro de s‚rie du volume est 8CD8-891B\n",
      "\n",
      " R‚pertoire de C:\\Users\\esteb\\Documents\\ESILV\\IGN\\YOLOv10-Test\\Dataset\\datasets_RF\\GeoDanceHive-BeeDataset-1\\train\\labels\n",
      "\n",
      "26/05/2025  13:54    <DIR>          .\n",
      "13/05/2025  11:22    <DIR>          ..\n",
      "13/05/2025  10:41            43ÿ006 063_jpg.rf.82b28d136ea2e592dc60b14e4fcd82f8.txt\n",
      "13/05/2025  10:41             2ÿ008 1030_bees_poop_defense_feat_jpg.rf.a3c01f80d8d527e66d59b268e8c991b7.txt\n",
      "13/05/2025  10:41               559 1085701-214827957_jpg.rf.07a9ceab58982be70fffcf21f12cb66d.txt\n",
      "13/05/2025  10:41                 0 14-Purple-Flowering-Shrubs_jpg.rf.1d25ac391dc1f86261ca655fbcc1db23.txt\n",
      "13/05/2025  10:41                 0 1586457549840_jpeg.rf.4d69ace318e9387e94b6c158da1a931b.txt\n",
      "13/05/2025  10:41                79 16Blue_png.rf.d1809ef63e20d198332ffa00879d218d.txt\n",
      "13/05/2025  10:41               398 173472354-56a51fbf3df78cf772865e3c_jpg.rf.71936d2fd6df6d61bda653508ac6a16e.txt\n",
      "13/05/2025  10:41               400 173472354-56a51fbf3df78cf772865e3c_jpg.rf.9aa9f128cb5514d00dd2e864f02ca962.txt\n",
      "13/05/2025  10:41             1ÿ101 1E7CDC99-072A-41E9-8C59-5DE41E3D2A38_1_105_c_jpeg.rf.327fe059d2368a2a0d06f37322825c77.txt\n",
      "13/05/2025  10:41                80 1_mp4-0_jpg.rf.424aba0f683ff81f660ec67d79a78a58.txt\n",
      "13/05/2025  10:41                80 1_mp4-10_jpg.rf.27de4e9f7b4fe4b9a65f52535d105157.txt\n",
      "13/05/2025  10:41                65 1_mp4-11_jpg.rf.ac7ac04fee72be0821aa6bb580efba3c.txt\n",
      "13/05/2025  10:41                 0 1_mp4-2_jpg.rf.cf1d186068d269562b60e830093b900e.txt\n",
      "13/05/2025  10:41                80 1_mp4-5_jpg.rf.e82f3f132673c33f281683d837dffb37.txt\n",
      "13/05/2025  10:41                79 1_mp4-6_jpg.rf.7ce509ecab460328d2f2c51e52b4ad10.txt\n",
      "13/05/2025  10:41                81 1_mp4-7_jpg.rf.9ab92a24e15c250414e1bfad53953a7a.txt\n",
      "13/05/2025  10:41                 0 1_mp4-8_jpg.rf.78ba61d0776c18080e87cd02745c7657.txt\n",
      "13/05/2025  10:41                 0 1_mp4-9_jpg.rf.d545bbe8abf37c66c39094c5d58e5178.txt\n",
      "13/05/2025  10:41             1ÿ269 1_xareiNrYSDRJ446ec5FqLw-1-_jpeg.rf.2a1e98774b77191dce7b32db305ec1e3.txt\n",
      "13/05/2025  10:41                79 200518-v1_PopularityRed_AS_png.rf.fed59cc9bea2ba9183261ed7b64edb0a.txt\n",
      "13/05/2025  10:41               202 207463293_a02f42540d_b_jpg.rf.07a3a554519f285ecbea93c79bd1322d.txt\n",
      "13/05/2025  10:41               479 5116836614_bb810daeed_b_jpg.rf.1855d142658ab583279eb37ea515a3de.txt\n",
      "13/05/2025  10:41               237 52854521e4b02d65a71dbb75_jpg.rf.6bc1b4dad1ef37d666354ccc74beae40.txt\n",
      "13/05/2025  10:41                76 62686_original_jpg.rf.7fa800e4fb7ff80ff25a8319729d764f.txt\n",
      "13/05/2025  10:41                 0 71ET3pcpw3L-_AC_SL1000__jpg.rf.75fb2cb97ecf146baee04363bc8ba160.txt\n",
      "13/05/2025  10:41               348 7acb0879-d0e3-438a-a8a0-a353bce656eb_zYBoBFz-large_png.rf.174c272f601d28db63497cb79c89a9a9.txt\n",
      "13/05/2025  10:41                76 95A8BA46-E9DD-0B05-A45837D9116736EF_jpg.rf.4970a4732dcd08752285e8c966b57382.txt\n",
      "13/05/2025  10:41             4ÿ237 9e77d770013ac6742a188642d3af08dea16e2cb6_2_666x500_jpeg.rf.0d1d610bb4812979fa56c7557a2ab16a.txt\n",
      "13/05/2025  10:41                77 A-closer-look-of-honey-bees-sipping-nectar-from-a-flower_jpg.rf.24f7c28ff6b771742609594f4d9cce17.txt\n",
      "13/05/2025  10:41             1ÿ611 afb_eggs5_jpg.rf.b072b4522ba42851f4777e6192e5126c.txt\n",
      "13/05/2025  10:41                68 bee-1333353_1920-1024x673_jpg.rf.61deeae97673e38cb7538756d2edbb26.txt\n",
      "13/05/2025  10:41                78 bee-flower-gty-jt-190708_hpMain_16x9_992_jpg.rf.2486133c1e5fe1ab80c19359a2dd3a82.txt\n",
      "13/05/2025  10:41                78 bee-pollinating-lavender-flower-tihany-hungary-royalty-free-image-980595520-1556641316_jpg.rf.05da28415896a9d5791e1d888db5eccc.txt\n",
      "13/05/2025  10:41             1ÿ525 bee-queen-honeybee-full-bees-bee-queen-honeybee-97609790_jpg.rf.b7a1932e10c66a9db44145648e84b2c2.txt\n",
      "13/05/2025  10:41             4ÿ191 Bee-SG-5_jpg.rf.1b063db12d85c5d93bf625b9560040b2.txt\n",
      "13/05/2025  10:41             4ÿ529 bee1_jpg.rf.cf2e4b02b6a5c57bfcff5974e041dd0c.txt\n",
      "13/05/2025  10:41               780 Beehive-3-14-2022-11_11_05am_mp4-0_jpg.rf.aa9c1d2f24590c94899922e5ccb0c90c.txt\n",
      "13/05/2025  10:41             1ÿ178 Beehive-3-14-2022-11_11_05am_mp4-103_jpg.rf.d45a0189a4d1e28bd34d2a4196c35f2f.txt\n",
      "13/05/2025  10:41             1ÿ304 Beehive-3-14-2022-11_11_05am_mp4-104_jpg.rf.6a73184f102f6bd5789edd8951cfc37f.txt\n",
      "13/05/2025  10:41             1ÿ275 Beehive-3-14-2022-11_11_05am_mp4-108_jpg.rf.001c0b0a2196af657a04bef181cbe89c.txt\n",
      "13/05/2025  10:41               804 Beehive-3-14-2022-11_11_05am_mp4-117_jpg.rf.a67fa8210d64eb98c356df3adf77bef8.txt\n",
      "13/05/2025  10:41               706 Beehive-3-14-2022-11_11_05am_mp4-119_jpg.rf.be2605a890010a56d7ae3876bd1215c1.txt\n",
      "13/05/2025  10:41             1ÿ553 Beehive-3-14-2022-11_11_05am_mp4-19_jpg.rf.02e9198e3f3cbcf1ec66d86a457835e5.txt\n",
      "13/05/2025  10:41             1ÿ056 Beehive-3-14-2022-11_11_05am_mp4-24_jpg.rf.01b71f0abbedc97b07ca1774826c3efe.txt\n",
      "13/05/2025  10:41               822 Beehive-3-14-2022-11_11_05am_mp4-32_jpg.rf.8d1a428a17ae4cc54a04fad54262e4a5.txt\n",
      "13/05/2025  10:41             1ÿ175 Beehive-3-14-2022-11_11_05am_mp4-36_jpg.rf.4c84fb870e8a7a8c94e7e1ce60928add.txt\n",
      "13/05/2025  10:41             1ÿ064 Beehive-3-14-2022-11_11_05am_mp4-37_jpg.rf.f4c266d18f1c916ea73d88ed55587b7c.txt\n",
      "13/05/2025  10:41             1ÿ003 Beehive-3-14-2022-11_11_05am_mp4-39_jpg.rf.83b879af6aee7631fd2289d73080d810.txt\n",
      "13/05/2025  10:41             1ÿ230 Beehive-3-14-2022-11_11_05am_mp4-45_jpg.rf.6ced0fcb4afae09400e025eafcbad7e4.txt\n",
      "13/05/2025  10:41             1ÿ303 Beehive-3-14-2022-11_11_05am_mp4-4_jpg.rf.e42198d42c9e70e0ba41137d4049c146.txt\n",
      "13/05/2025  10:41               993 Beehive-3-14-2022-11_11_05am_mp4-67_jpg.rf.f882074815b2bf64ac3356b6ee8a88f1.txt\n",
      "13/05/2025  10:41               930 Beehive-3-14-2022-11_11_05am_mp4-72_jpg.rf.51dc68f501c3edf2b501c0040b63e6b6.txt\n",
      "13/05/2025  10:41             1ÿ077 Beehive-3-14-2022-11_11_05am_mp4-90_jpg.rf.00a400349b3bee88939b0ad7701f17e1.txt\n",
      "13/05/2025  10:41               971 Beehive-3-14-2022-11_11_05am_mp4-98_jpg.rf.295603c0a47bc4e13f3d914317068f54.txt\n",
      "13/05/2025  10:41             1ÿ375 Beehive-3-14-2022-2_47_11pm_mp4-113_jpg.rf.e957d27e97f22f5b0eee2f5f46c4381b.txt\n",
      "13/05/2025  10:41             1ÿ815 Beehive-3-14-2022-2_47_11pm_mp4-148_jpg.rf.6eac3751887602fc6d568f14e7e918e4.txt\n",
      "13/05/2025  10:41             1ÿ612 Beehive-3-14-2022-2_47_11pm_mp4-14_jpg.rf.a87f5b56dd8739d8ccdc99fb9b111a6d.txt\n",
      "13/05/2025  10:41             1ÿ787 Beehive-3-14-2022-2_47_11pm_mp4-161_jpg.rf.e7902a29f552f56830a9dcad24014595.txt\n",
      "13/05/2025  10:41             1ÿ584 Beehive-3-14-2022-2_47_11pm_mp4-166_jpg.rf.0ab87286bdaf6c84181675b62fe561a1.txt\n",
      "13/05/2025  10:41             1ÿ591 Beehive-3-14-2022-2_47_11pm_mp4-170_jpg.rf.e11acbc91635646e466a250c3880c1d8.txt\n",
      "13/05/2025  10:41             1ÿ600 Beehive-3-14-2022-2_47_11pm_mp4-173_jpg.rf.f922a843d8d460e32fda350e7acd6c07.txt\n",
      "13/05/2025  10:41             1ÿ541 Beehive-3-14-2022-2_47_11pm_mp4-176_jpg.rf.86e708322722d48f027f774f85669245.txt\n",
      "13/05/2025  10:41             1ÿ523 Beehive-3-14-2022-2_47_11pm_mp4-177_jpg.rf.97eaf307fb45df0ad0149f8f98c9c100.txt\n",
      "13/05/2025  10:41             1ÿ479 Beehive-3-14-2022-2_47_11pm_mp4-178_jpg.rf.7917bd6804fe6fbfba51050fa4364bea.txt\n",
      "13/05/2025  10:41             1ÿ774 Beehive-3-14-2022-2_47_11pm_mp4-185_jpg.rf.5a34c313c514b54c03595782c556ba13.txt\n",
      "13/05/2025  10:41             1ÿ935 Beehive-3-14-2022-2_47_11pm_mp4-192_jpg.rf.c5a27cb6972b74a5e8ab6820ccf4b2f0.txt\n",
      "13/05/2025  10:41             1ÿ787 Beehive-3-14-2022-2_47_11pm_mp4-208_jpg.rf.34e894fcadae314ec99a5394ac6d2092.txt\n",
      "13/05/2025  10:41             1ÿ213 Beehive-3-14-2022-2_47_11pm_mp4-20_jpg.rf.ab8f300b49c4b5c2999bde5e7a78094c.txt\n",
      "13/05/2025  10:41             1ÿ290 Beehive-3-14-2022-2_47_11pm_mp4-223_jpg.rf.b946c743efa3083017c65cb2bec69a34.txt\n",
      "13/05/2025  10:41             1ÿ489 Beehive-3-14-2022-2_47_11pm_mp4-225_jpg.rf.e176d11b1553e01a4bb55542f369df14.txt\n",
      "13/05/2025  10:41             1ÿ700 Beehive-3-14-2022-2_47_11pm_mp4-236_jpg.rf.7422afc626dcbd47d7d0e27d4fdbc439.txt\n",
      "13/05/2025  10:41             1ÿ631 Beehive-3-14-2022-2_47_11pm_mp4-238_jpg.rf.b6dd576d3039e4b4df9bacb8b21564ba.txt\n",
      "13/05/2025  10:41             1ÿ157 Beehive-3-14-2022-2_47_11pm_mp4-242_jpg.rf.25064af15f4e6ae3406f417f60806bce.txt\n",
      "13/05/2025  10:41             1ÿ441 Beehive-3-14-2022-2_47_11pm_mp4-250_jpg.rf.5c96c4d860efc850bcac3aa99e71d7a8.txt\n",
      "13/05/2025  10:41             2ÿ046 Beehive-3-14-2022-2_47_11pm_mp4-270_jpg.rf.e66ac03da7331c9452acbfe31b08fbbe.txt\n",
      "13/05/2025  10:41             1ÿ624 Beehive-3-14-2022-2_47_11pm_mp4-27_jpg.rf.faa178ef39cd3a25dca3787b13112194.txt\n",
      "13/05/2025  10:41             1ÿ586 Beehive-3-14-2022-2_47_11pm_mp4-31_jpg.rf.455fff11fce803d9d1c5ce3340b5384e.txt\n",
      "13/05/2025  10:41             1ÿ182 Beehive-3-14-2022-2_47_11pm_mp4-32_jpg.rf.90ef55640679d22af369d8ae833104f0.txt\n",
      "13/05/2025  10:41             1ÿ371 Beehive-3-14-2022-2_47_11pm_mp4-39_jpg.rf.8a7cd409b708d8044b17a0736b667f31.txt\n",
      "13/05/2025  10:41             1ÿ153 Beehive-3-14-2022-2_47_11pm_mp4-50_jpg.rf.d7907962cea31474e30e4a984e071dbb.txt\n",
      "13/05/2025  10:41             1ÿ318 Beehive-3-14-2022-2_47_11pm_mp4-56_jpg.rf.804b7bb76581f6a9be818935a9313333.txt\n",
      "13/05/2025  10:41             1ÿ610 Beehive-3-14-2022-2_47_11pm_mp4-62_jpg.rf.cac031cbf39590d881d8377d9158a58f.txt\n",
      "13/05/2025  10:41             1ÿ387 Beehive-3-14-2022-2_47_11pm_mp4-66_jpg.rf.a419c323907e75487d02d64d31a7a253.txt\n",
      "13/05/2025  10:41             1ÿ615 Beehive-3-14-2022-2_47_11pm_mp4-78_jpg.rf.e3ee6a131c4e0a87860174bf0e9e16cb.txt\n",
      "13/05/2025  10:41             1ÿ747 Beehive-3-14-2022-2_47_11pm_mp4-80_jpg.rf.707cbbb826179c8d0589b6d56054c86f.txt\n",
      "13/05/2025  10:41             1ÿ941 Beehive-3-14-2022-2_47_11pm_mp4-87_jpg.rf.278d00b0eb9dd91b61e8acb754a61ca1.txt\n",
      "13/05/2025  10:41             1ÿ733 Beehive-3-14-2022-2_47_11pm_mp4-89_jpg.rf.134d878ccce9a6a38776cb0b313b292b.txt\n",
      "13/05/2025  10:41             1ÿ284 Beehive-3-14-2022-2_47_11pm_mp4-8_jpg.rf.dc5b81c061d65245ecb9efab61d71f49.txt\n",
      "13/05/2025  10:41             1ÿ363 Beehive-3-14-2022-2_47_11pm_mp4-95_jpg.rf.2ad637538b9c853768cb799e2b8db5ae.txt\n",
      "13/05/2025  10:41               459 Beehive-3-15-2022-10_41_13am_mp4-0_jpg.rf.e03c2f722b73d9d3642943953b4f4011.txt\n",
      "13/05/2025  10:41               605 Beehive-3-15-2022-10_41_13am_mp4-10_jpg.rf.92aea5409899f2710733fe1745223b70.txt\n",
      "13/05/2025  10:41               693 Beehive-3-15-2022-10_41_13am_mp4-11_jpg.rf.49b250fa73d6dfe0861c82c1d319aca2.txt\n",
      "13/05/2025  10:41               760 Beehive-3-15-2022-10_41_13am_mp4-11_jpg.rf.b4e0428f4c455058bf051380db6bf3f7.txt\n",
      "13/05/2025  10:41             1ÿ089 Beehive-3-15-2022-10_41_13am_mp4-12_jpg.rf.cb33b84fd9fd75d8592a844cbbe8ad04.txt\n",
      "13/05/2025  10:41               242 Beehive-3-15-2022-10_41_13am_mp4-13_jpg.rf.5af9f02f4f5958566532eaab02d1f9e4.txt\n",
      "13/05/2025  10:41             1ÿ011 Beehive-3-15-2022-10_41_13am_mp4-13_jpg.rf.d02b2596672dd9bf6aec1f0e947066cc.txt\n",
      "13/05/2025  10:41               471 Beehive-3-15-2022-10_41_13am_mp4-14_jpg.rf.785ae2cebe6845fa3730cc53de4c8c87.txt\n",
      "13/05/2025  10:41               851 Beehive-3-15-2022-10_41_13am_mp4-16_jpg.rf.5143b43acf26327e037409841cd459c8.txt\n",
      "13/05/2025  10:41               626 Beehive-3-15-2022-10_41_13am_mp4-18_jpg.rf.b863b92ce76e9c200f8549e05be2657c.txt\n",
      "13/05/2025  10:41               529 Beehive-3-15-2022-10_41_13am_mp4-19_jpg.rf.ead019c6d0691ebef7f0dc5963038cab.txt\n",
      "13/05/2025  10:41               440 Beehive-3-15-2022-10_41_13am_mp4-1_jpg.rf.320087a6b7a9ffcf17520b89ef961739.txt\n",
      "13/05/2025  10:41               514 Beehive-3-15-2022-10_41_13am_mp4-1_jpg.rf.ec26fad6e019c8c8bd54ca5b0edda7b0.txt\n",
      "13/05/2025  10:41               695 Beehive-3-15-2022-10_41_13am_mp4-20_jpg.rf.bb2c804dd7e10c57cb66a1b77db9cdcb.txt\n",
      "13/05/2025  10:41               499 Beehive-3-15-2022-10_41_13am_mp4-22_jpg.rf.51db0947e684b03fbace1b20b86498ec.txt\n",
      "13/05/2025  10:41               518 Beehive-3-15-2022-10_41_13am_mp4-23_jpg.rf.97e8bf385ed676a67c8a2e0529a99539.txt\n",
      "13/05/2025  10:41               596 Beehive-3-15-2022-10_41_13am_mp4-24_jpg.rf.aad7bf7c2094e6bad5aeb65198028bd3.txt\n",
      "13/05/2025  10:41               551 Beehive-3-15-2022-10_41_13am_mp4-25_jpg.rf.91222d13315fbc83bd5e6d51e5682e42.txt\n",
      "13/05/2025  10:41               390 Beehive-3-15-2022-10_41_13am_mp4-26_jpg.rf.0377e5b1bd3f34b1657b29f43afaaae1.txt\n",
      "13/05/2025  10:41               679 Beehive-3-15-2022-10_41_13am_mp4-2_jpg.rf.67db5a9be4fd7b0ae8df0e55bd6136f5.txt\n",
      "13/05/2025  10:41               621 Beehive-3-15-2022-10_41_13am_mp4-2_jpg.rf.d9233d0848418d2e4f146ab3db129b1e.txt\n",
      "13/05/2025  10:41               737 Beehive-3-15-2022-10_41_13am_mp4-31_jpg.rf.5ec02adf12e6310f3f9b90f51a38d2ae.txt\n",
      "13/05/2025  10:41               605 Beehive-3-15-2022-10_41_13am_mp4-32_jpg.rf.d1b47a3c1d26d49ae32811329efe26de.txt\n",
      "13/05/2025  10:41               770 Beehive-3-15-2022-10_41_13am_mp4-33_jpg.rf.31067786955f62b8b3202b77c5be2a9f.txt\n",
      "13/05/2025  10:41               833 Beehive-3-15-2022-10_41_13am_mp4-35_jpg.rf.4f9fb4a36dd0107d6f3518d2949600d6.txt\n",
      "13/05/2025  10:41               860 Beehive-3-15-2022-10_41_13am_mp4-36_jpg.rf.f71892d1cfdc740341cce26c706baa32.txt\n",
      "13/05/2025  10:41               749 Beehive-3-15-2022-10_41_13am_mp4-37_jpg.rf.2879ebb99e069734f26779c48a89d7d3.txt\n",
      "13/05/2025  10:41               775 Beehive-3-15-2022-10_41_13am_mp4-38_jpg.rf.3b4075570ff2760f6392b3d9dbe98f3e.txt\n",
      "13/05/2025  10:41               564 Beehive-3-15-2022-10_41_13am_mp4-3_jpg.rf.29351aa9bd32a3ac083ff8f9f71c766e.txt\n",
      "13/05/2025  10:41               705 Beehive-3-15-2022-10_41_13am_mp4-3_jpg.rf.cf25cebaac541a0dc72c617937daa0b9.txt\n",
      "13/05/2025  10:41               586 Beehive-3-15-2022-10_41_13am_mp4-40_jpg.rf.fbcf234e0d3c3ff15a6be252b1a391e7.txt\n",
      "13/05/2025  10:41               307 Beehive-3-15-2022-10_41_13am_mp4-43_jpg.rf.f6d8f9d7a8fe26bab896d9ecc911131c.txt\n",
      "13/05/2025  10:41               506 Beehive-3-15-2022-10_41_13am_mp4-44_jpg.rf.0cf03b6b7f20d995311fe4e45b7c1a5d.txt\n",
      "13/05/2025  10:41               473 Beehive-3-15-2022-10_41_13am_mp4-46_jpg.rf.9b04ba3d065941215ad8b7fe9c9b3548.txt\n",
      "13/05/2025  10:41               235 Beehive-3-15-2022-10_41_13am_mp4-47_jpg.rf.58846d7cb0548eb19daeb2fac1a84531.txt\n",
      "13/05/2025  10:41               472 Beehive-3-15-2022-10_41_13am_mp4-48_jpg.rf.f3022efd63f3393d94745beef76c9e02.txt\n",
      "13/05/2025  10:41               443 Beehive-3-15-2022-10_41_13am_mp4-49_jpg.rf.baf1f894e50ffaefe2cd3b3d08a0b414.txt\n",
      "13/05/2025  10:41               917 Beehive-3-15-2022-10_41_13am_mp4-4_jpg.rf.143ce4632bfafdaf5017221b115e3b75.txt\n",
      "13/05/2025  10:41               509 Beehive-3-15-2022-10_41_13am_mp4-4_jpg.rf.1c09ff17fe31f3f31decb46adcf9e947.txt\n",
      "13/05/2025  10:41               470 Beehive-3-15-2022-10_41_13am_mp4-50_jpg.rf.586385ccebb77f432a00bd1b37fbe182.txt\n",
      "13/05/2025  10:41               612 Beehive-3-15-2022-10_41_13am_mp4-7_jpg.rf.7ca9bb03ff0de264eebf0c7c724d4081.txt\n",
      "13/05/2025  10:41               631 Beehive-3-15-2022-10_41_13am_mp4-9_jpg.rf.8e0340dd470c9034f4dc2bd2d3dfb88d.txt\n",
      "13/05/2025  10:41               685 Beehive-3-15-2022-10_41_13am_mp4-9_jpg.rf.935d6694c7cfe60506c1dd6e3a1a29ca.txt\n",
      "13/05/2025  10:41               538 Beehive-3-15-2022-12_27_29pm_mp4-0_jpg.rf.10757fefbd21168dc64edff69ed52a86.txt\n",
      "13/05/2025  10:41               834 Beehive-3-15-2022-12_27_29pm_mp4-10_jpg.rf.95b9841777bc8ffab6c0a2439caeaf21.txt\n",
      "13/05/2025  10:41             1ÿ040 Beehive-3-15-2022-12_27_29pm_mp4-2_jpg.rf.8521074ee7b8fa2bbfd0c4b705ca1cb9.txt\n",
      "13/05/2025  10:41             1ÿ205 Beehive-3-15-2022-12_27_29pm_mp4-3_jpg.rf.9f2681b3ec2fbef24dcdf313fbe2f46a.txt\n",
      "13/05/2025  10:41             1ÿ412 Beehive-3-15-2022-12_27_29pm_mp4-5_jpg.rf.71d160805d790587f5eacd278cefb7ef.txt\n",
      "13/05/2025  10:41             1ÿ323 Beehive-3-15-2022-12_27_29pm_mp4-6_jpg.rf.f7c496d2d624dff7b5f5d7210563304e.txt\n",
      "13/05/2025  10:41               534 Beehive-3-15-2022-12_27_29pm_mp4-8_jpg.rf.2ec4861e947e8720f7882027e0b14d56.txt\n",
      "13/05/2025  10:41               807 Beehive-3-15-2022-12_27_29pm_mp4-9_jpg.rf.e3e765cd7bcead84ff2e91bab3890a4e.txt\n",
      "13/05/2025  10:41               625 Beehive-3-15-2022-1_32_25pm_mp4-10_jpg.rf.43907209731640dc6f478b5a8ed19112.txt\n",
      "13/05/2025  10:41               686 Beehive-3-15-2022-1_32_25pm_mp4-11_jpg.rf.d836d514c57751d59c9ceaa5705a4dad.txt\n",
      "13/05/2025  10:41               571 Beehive-3-15-2022-1_32_25pm_mp4-1_jpg.rf.45904bd5ab6b38d660903e7ddaf8b483.txt\n",
      "13/05/2025  10:41               623 Beehive-3-15-2022-1_32_25pm_mp4-2_jpg.rf.561df4570da9b28f7cd9c62ee015875e.txt\n",
      "13/05/2025  10:41               298 Beehive-3-15-2022-1_32_25pm_mp4-4_jpg.rf.c7480da7a787ae6835c10c236cfee729.txt\n",
      "13/05/2025  10:41               377 Beehive-3-15-2022-1_32_25pm_mp4-5_jpg.rf.bca8300b0962451a1a4f7710df670fb5.txt\n",
      "13/05/2025  10:41               764 Beehive-3-15-2022-1_32_25pm_mp4-6_jpg.rf.29dac1ea8a7d77394daddd638eaa9a4c.txt\n",
      "13/05/2025  10:41               864 Beehive-3-15-2022-1_32_25pm_mp4-8_jpg.rf.83e91511b9cbcb1d1e17e7e1068fb71d.txt\n",
      "13/05/2025  10:41             5ÿ241 Beehive-3-15-2022-3_15_37pm_mp4-10_jpg.rf.a191a6aa63715f919278b4e9888a2b56.txt\n",
      "13/05/2025  10:41             3ÿ807 Beehive-3-15-2022-3_15_37pm_mp4-13_jpg.rf.9abca75176e4e8df97beeb263c980da3.txt\n",
      "13/05/2025  10:41             6ÿ190 Beehive-3-15-2022-3_15_37pm_mp4-22_jpg.rf.11f13be7a7680d7f8c0f9ffcb0c293f7.txt\n",
      "13/05/2025  10:41             4ÿ607 Beehive-3-15-2022-3_15_37pm_mp4-29_jpg.rf.8b55046000a184d402136f5e12bc0de4.txt\n",
      "13/05/2025  10:41               232 Beehive-3-15-2022-6_24_59pm_mp4-1_jpg.rf.1b3d1740799b6c7f2a46498f4e8bb034.txt\n",
      "13/05/2025  10:41                73 Beehive-3-15-2022-6_24_59pm_mp4-2_jpg.rf.d20e2eb176ef95adb0dc739c54979b98.txt\n",
      "13/05/2025  10:41               150 Beehive-3-15-2022-6_24_59pm_mp4-3_jpg.rf.b114c7c68dd36b197f54e3312cee49bc.txt\n",
      "13/05/2025  10:41               318 Beehive-3-15-2022-6_24_59pm_mp4-4_jpg.rf.7beb14a7537780613f6dfcd7b34362f6.txt\n",
      "13/05/2025  10:41               145 Beehive-3-15-2022-6_24_59pm_mp4-7_jpg.rf.cd18807d036cf85edf892e1f491cc966.txt\n",
      "13/05/2025  10:41                80 Beehive-3-15-2022-9_40_50am_mp4-0_jpg.rf.b7fd6c3d7fb367d7cc8c2f44e6fb57f4.txt\n",
      "13/05/2025  10:41                 0 Beehive-3-15-2022-9_40_50am_mp4-10_jpg.rf.693045e07da13978b41319a3274845e7.txt\n",
      "13/05/2025  10:41                 0 Beehive-3-15-2022-9_40_50am_mp4-11_jpg.rf.052f68f81b15872bcb6eb365e8a5fe32.txt\n",
      "13/05/2025  10:41                 0 Beehive-3-15-2022-9_40_50am_mp4-12_jpg.rf.efe3ad9dca38dd9f1930e41a30a383e8.txt\n",
      "13/05/2025  10:41                80 Beehive-3-15-2022-9_40_50am_mp4-2_jpg.rf.4126947e6a6d4c94d4dafefcbe0e7756.txt\n",
      "13/05/2025  10:41                80 Beehive-3-15-2022-9_40_50am_mp4-3_jpg.rf.dbff4871f8aa6f689c5741f2f0c610ca.txt\n",
      "13/05/2025  10:41                80 Beehive-3-15-2022-9_40_50am_mp4-5_jpg.rf.e3054a0a2192f059ef2fea1cbdcd133e.txt\n",
      "13/05/2025  10:41                74 Beehive-3-15-2022-9_40_50am_mp4-7_jpg.rf.c8d2b31f9e6b11e119195030b9c0aced.txt\n",
      "13/05/2025  10:41                80 Beehive-3-15-2022-9_40_50am_mp4-8_jpg.rf.77a8ca49200c5919aa00c18e6ab49986.txt\n",
      "13/05/2025  10:41               310 Beehive-3-15-2022-9_57_36am_mp4-1_jpg.rf.e328c3c156f5ce87f0e6ade74dd02fb7.txt\n",
      "13/05/2025  10:41               203 Beehive-3-15-2022-9_57_36am_mp4-4_jpg.rf.43cce069b640d422d7ccdb0dc9151f90.txt\n",
      "13/05/2025  10:41               320 Beehive-3-15-2022-9_57_36am_mp4-5_jpg.rf.cbb54508b8281530b838823648f01ed6.txt\n",
      "13/05/2025  10:41               213 Beehive-3-15-2022-9_57_36am_mp4-6_jpg.rf.fe4a8023201d22ec86ed55eed587f06a.txt\n",
      "13/05/2025  10:41               276 Beehive-3-15-2022-9_57_36am_mp4-7_jpg.rf.161deacae39067d8d2538b11b495564d.txt\n",
      "13/05/2025  10:41               193 Beehive-3-15-2022-9_57_36am_mp4-8_jpg.rf.305d52eb1671ddf65cb4f3b6aba77a7e.txt\n",
      "13/05/2025  10:41               236 Beehive-3-15-2022-9_57_36am_mp4-9_jpg.rf.b98212c6be54987d6ea868530e5bbb1d.txt\n",
      "13/05/2025  10:41               317 Beehive-3-17-2022-11_05_06am_mp4-0_jpg.rf.213e74500ae237c60ac808fff1385eb9.txt\n",
      "13/05/2025  10:41               228 Beehive-3-17-2022-11_05_06am_mp4-11_jpg.rf.9d45da11b9edb82a95fd21c396fd2a8d.txt\n",
      "13/05/2025  10:41               300 Beehive-3-17-2022-11_05_06am_mp4-2_jpg.rf.eb19e113748820dd6a2a5840d1f66128.txt\n",
      "13/05/2025  10:41               154 Beehive-3-17-2022-11_05_06am_mp4-3_jpg.rf.4c248d37e5b96110eca2e22dc35e6e26.txt\n",
      "13/05/2025  10:41               395 Beehive-3-17-2022-11_05_06am_mp4-5_jpg.rf.bb95891e92cc3835ef4a61ee72b0dea4.txt\n",
      "13/05/2025  10:41               398 Beehive-3-17-2022-11_05_06am_mp4-7_jpg.rf.898a1e2939ebd75916d26bdcd473f3c3.txt\n",
      "13/05/2025  10:41               376 Beehive-3-17-2022-11_05_06am_mp4-8_jpg.rf.b99433dcef8215875d85a0cb9e79714b.txt\n",
      "13/05/2025  10:41               316 Beehive-3-17-2022-11_05_06am_mp4-9_jpg.rf.eda21fb88839f64b8430df9115c54cae.txt\n",
      "13/05/2025  10:41               306 Beehive-3-17-2022-4_46_14pm_mp4-0_jpg.rf.3df94608fee0c3f83013756f8bdddbd7.txt\n",
      "13/05/2025  10:41               204 Beehive-3-17-2022-4_46_14pm_mp4-1_jpg.rf.a26cdad7222f3a3775c5e35e5f84cb39.txt\n",
      "13/05/2025  10:41                80 Beehive-3-17-2022-4_46_14pm_mp4-2_jpg.rf.4d2ca944ad7c7dcde50f20c2cdcdbde9.txt\n",
      "13/05/2025  10:41               375 Beehive-3-17-2022-4_46_14pm_mp4-5_jpg.rf.a3704cd3d622b68dd546d2e091c66202.txt\n",
      "13/05/2025  10:41               538 Beehive-3-17-2022-4_46_14pm_mp4-6_jpg.rf.0aa9c69e70f7e37513d2d85169eff689.txt\n",
      "13/05/2025  10:41               818 Beehive-3-17-2022-4_46_14pm_mp4-8_jpg.rf.bcb38929445a68b92848b45810645da3.txt\n",
      "13/05/2025  10:41               773 Beehive-3-17-2022-4_46_14pm_mp4-9_jpg.rf.6b9279a5842f1b2d7b4d4490e2c9704c.txt\n",
      "13/05/2025  10:41               315 Beehive-3-17-2022-5_04_15pm_mp4-0_jpg.rf.aecbb29dfc6c3903d8f161907a6a7600.txt\n",
      "13/05/2025  10:41               432 Beehive-3-17-2022-5_04_15pm_mp4-1_jpg.rf.8e0e6991d141ced2933ad1283aad7539.txt\n",
      "13/05/2025  10:41               514 Beehive-3-17-2022-5_04_15pm_mp4-2_jpg.rf.9dbb0ab99be960545fa261839f44e0d0.txt\n",
      "13/05/2025  10:41               558 Beehive-3-17-2022-5_04_15pm_mp4-5_jpg.rf.eeec3c23449d7a2d5118ce10313df97b.txt\n",
      "13/05/2025  10:41               329 Beehive-3-17-2022-5_04_15pm_mp4-6_jpg.rf.eaa681a3aff99be34d64c8ccdebe13ea.txt\n",
      "13/05/2025  10:41               143 Beehive-3-17-2022-5_04_15pm_mp4-7_jpg.rf.657e17182ec31ba116eedc6720afd865.txt\n",
      "13/05/2025  10:41                 0 Beehive-3-17-2022-5_04_15pm_mp4-8_jpg.rf.8e145438df9a73fbc1a4e56e1e7bb29d.txt\n",
      "13/05/2025  10:41               245 Beehive-3-17-2022-7_50_15am_mp4-0_jpg.rf.5d1d6cd317a334a604430c57e5040477.txt\n",
      "13/05/2025  10:41               236 Beehive-3-17-2022-7_50_15am_mp4-11_jpg.rf.5d5a4c0daf17f28a8cbd0922f222a90f.txt\n",
      "13/05/2025  10:41               237 Beehive-3-17-2022-7_50_15am_mp4-1_jpg.rf.83dcde0a4d662ba575f5ac8f806f4a58.txt\n",
      "13/05/2025  10:41               227 Beehive-3-17-2022-7_50_15am_mp4-2_jpg.rf.b70c9a226fd9497ffdbf4170687cf474.txt\n",
      "13/05/2025  10:41               298 Beehive-3-17-2022-7_50_15am_mp4-3_jpg.rf.427de685698708c4a57ede70c9fe6efd.txt\n",
      "13/05/2025  10:41               395 Beehive-3-17-2022-7_50_15am_mp4-4_jpg.rf.b471838cff295a4bffc03331f58f02b5.txt\n",
      "13/05/2025  10:41               313 Beehive-3-17-2022-7_50_15am_mp4-5_jpg.rf.42dfc2b269fe9f442cc01b0a3a64db78.txt\n",
      "13/05/2025  10:41               226 Beehive-3-17-2022-7_50_15am_mp4-8_jpg.rf.eb3d06d868a771f2d0f30582b096bbbf.txt\n",
      "13/05/2025  10:41               293 Beehive-3-18-2022-2_36_16pm_mp4-0_jpg.rf.81d095b2992cecbfdeda7c13ea6b98f5.txt\n",
      "13/05/2025  10:41               235 Beehive-3-18-2022-2_36_16pm_mp4-10_jpg.rf.25043db6a9e4286236ad99c2d9185911.txt\n",
      "13/05/2025  10:41               326 Beehive-3-18-2022-2_36_16pm_mp4-3_jpg.rf.c1f65441b45d9ef198a6a57de3e4f9ed.txt\n",
      "13/05/2025  10:41               466 Beehive-3-18-2022-2_36_16pm_mp4-4_jpg.rf.2e3d9690f049193d1137138da5a4ce53.txt\n",
      "13/05/2025  10:41               307 Beehive-3-18-2022-2_36_16pm_mp4-5_jpg.rf.606cf40ac76c18e51a5939ebe1679ddc.txt\n",
      "13/05/2025  10:41               542 Beehive-3-18-2022-2_36_16pm_mp4-8_jpg.rf.55e3f41e830971b5847d43511fef2ff4.txt\n",
      "13/05/2025  10:41               631 Beehive-3-18-2022-2_36_16pm_mp4-9_jpg.rf.6440c6ba0da04a32e5001e130740c09a.txt\n",
      "13/05/2025  10:41               849 Beehive-3-21-2022-2_02_17pm-3-21-2022-2_02_47pm_mp4-0_jpg.rf.35bb577bcd3b6708bf804ea869fd55c8.txt\n",
      "13/05/2025  10:41               942 Beehive-3-21-2022-2_02_17pm-3-21-2022-2_02_47pm_mp4-1_jpg.rf.ff46af74352a533e1a208347e59d2d70.txt\n",
      "13/05/2025  10:41               452 Beehive-3-21-2022-2_02_17pm-3-21-2022-2_02_47pm_mp4-3_jpg.rf.9af9d079f2cc9c8cee0d761b5a26fc1c.txt\n",
      "13/05/2025  10:41               468 Beehive-3-21-2022-2_02_17pm-3-21-2022-2_02_47pm_mp4-4_jpg.rf.f53ef480b01f5c8edf15e6b133dc5846.txt\n",
      "13/05/2025  10:41               373 bees-4193804_960_720_jpg.rf.87b635275b9b14823352f1791d7f4bbf.txt\n",
      "13/05/2025  10:41             2ÿ910 bees-eat-nectar-wax-cells-queen-bee-surrounded-nurse-frames-beehive-selective-focus-soft-copy-space-170974612_jpg.rf.a6270a19898a9912e6a8138e80a40941.txt\n",
      "13/05/2025  10:41                 0 Bees-First-Day-Of-Spring-2022-HQ-HD_mp4-0_jpg.rf.deef0ed50e8def6390db888ef75d491b.txt\n",
      "13/05/2025  10:41                78 Bees-First-Day-Of-Spring-2022-HQ-HD_mp4-12_jpg.rf.60dd0eac4e4667f9f2a9de59cfbdf88e.txt\n",
      "13/05/2025  10:41                80 Bees-First-Day-Of-Spring-2022-HQ-HD_mp4-13_jpg.rf.fccd0eecdf42e1435dffbcd0eca0cdab.txt\n",
      "13/05/2025  10:41                 0 Bees-First-Day-Of-Spring-2022-HQ-HD_mp4-14_jpg.rf.64f8fbcabd90671a8d5ea2d8370effbe.txt\n",
      "13/05/2025  10:41                 0 Bees-First-Day-Of-Spring-2022-HQ-HD_mp4-15_jpg.rf.a08f80b920ac1f37a47e94fda8a0c992.txt\n",
      "13/05/2025  10:41                70 Bees-First-Day-Of-Spring-2022-HQ-HD_mp4-17_jpg.rf.fd5bc043ae71971111e7e998c168111f.txt\n",
      "13/05/2025  10:41                80 Bees-First-Day-Of-Spring-2022-HQ-HD_mp4-18_jpg.rf.00e2270df55895c30b2f9dbbc7fa80dc.txt\n",
      "13/05/2025  10:41                 0 Bees-First-Day-Of-Spring-2022-HQ-HD_mp4-1_jpg.rf.92f04a3eacfb7df316beb8ed15d4bee1.txt\n",
      "13/05/2025  10:41                70 Bees-First-Day-Of-Spring-2022-HQ-HD_mp4-20_jpg.rf.34087442f358d41d436b1d85c76f91b0.txt\n",
      "13/05/2025  10:41                67 Bees-First-Day-Of-Spring-2022-HQ-HD_mp4-21_jpg.rf.3e79012f9cd68ea1c5b2e30e2663e164.txt\n",
      "13/05/2025  10:41                79 Bees-First-Day-Of-Spring-2022-HQ-HD_mp4-22_jpg.rf.14cc4549bda1aeb205963a3b0a25b9da.txt\n",
      "13/05/2025  10:41                 0 Bees-First-Day-Of-Spring-2022-HQ-HD_mp4-23_jpg.rf.b44f11a977ef794a55d90642d377cfd8.txt\n",
      "13/05/2025  10:41                80 Bees-First-Day-Of-Spring-2022-HQ-HD_mp4-5_jpg.rf.062c9947d16bad703b1a86e05c30dffa.txt\n",
      "13/05/2025  10:41                78 Bees-First-Day-Of-Spring-2022-HQ-HD_mp4-6_jpg.rf.3f8e9cd659ad232584fc606ac69a35f5.txt\n",
      "13/05/2025  10:41                79 Bees-First-Day-Of-Spring-2022-HQ-HD_mp4-7_jpg.rf.340cb90cd64da2fd5ca466b5cb05d46f.txt\n",
      "13/05/2025  10:41                64 Bees-First-Day-Of-Spring-2022-HQ-HD_mp4-9_jpg.rf.b7893c1f490ef87f510a855226a1bf25.txt\n",
      "13/05/2025  10:41               241 bees-flying-honey-drinking-outdoors-nature_jpg.rf.724f7e77b1d8e433bdd68b70770d5bf9.txt\n",
      "13/05/2025  10:41             2ÿ239 bees-in-flight_jpg.rf.eaed676c3473a3eaf9ad6e73288092bd.txt\n",
      "13/05/2025  10:41                 0 bees-in-slow-motion-pollinating-apple-blossoms_mp4-0_jpg.rf.e9c115bf3be5cf21be217d93d732c7ad.txt\n",
      "13/05/2025  10:41                54 bees-in-slow-motion-pollinating-apple-blossoms_mp4-10_jpg.rf.db73d9dc3dc8f12e401bf3230cb5e5f2.txt\n",
      "13/05/2025  10:41                 0 bees-in-slow-motion-pollinating-apple-blossoms_mp4-12_jpg.rf.848b25f7e9f8b3aaffcf65a0a2ba294c.txt\n",
      "13/05/2025  10:41                69 bees-in-slow-motion-pollinating-apple-blossoms_mp4-13_jpg.rf.fb750a43d6d3d24a492d537b2f4f383e.txt\n",
      "13/05/2025  10:41                72 bees-in-slow-motion-pollinating-apple-blossoms_mp4-16_jpg.rf.f28c2dbd1938a4317a82695cf3ad1d1c.txt\n",
      "13/05/2025  10:41                66 bees-in-slow-motion-pollinating-apple-blossoms_mp4-17_jpg.rf.a39c3fc9bb606f62bf1e2e60c73b7c58.txt\n",
      "13/05/2025  10:41                 0 bees-in-slow-motion-pollinating-apple-blossoms_mp4-18_jpg.rf.075fbc673d32f71b0e8d7c071917db23.txt\n",
      "13/05/2025  10:41                 0 bees-in-slow-motion-pollinating-apple-blossoms_mp4-1_jpg.rf.a2caa2daec2407ef8cd8501d6f6afa9c.txt\n",
      "13/05/2025  10:41                66 bees-in-slow-motion-pollinating-apple-blossoms_mp4-2_jpg.rf.5cd13371314efc6e746218ed476e6ded.txt\n",
      "13/05/2025  10:41                73 bees-in-slow-motion-pollinating-apple-blossoms_mp4-3_jpg.rf.15de1cb62bb162ba63404380634e86c8.txt\n",
      "13/05/2025  10:41                71 bees-in-slow-motion-pollinating-apple-blossoms_mp4-4_jpg.rf.f4fdd613d18c29b067d733a5176ac092.txt\n",
      "13/05/2025  10:41                63 bees-in-slow-motion-pollinating-apple-blossoms_mp4-6_jpg.rf.a1ab4874fd20a2d0a2cbbc66f7f8c01f.txt\n",
      "13/05/2025  10:41                72 bees-in-slow-motion-pollinating-apple-blossoms_mp4-8_jpg.rf.23c9e723fb6e90cff2fee80af06edd4b.txt\n",
      "13/05/2025  10:41                54 bees-on-yellow-purslane-flower_jpg.rf.910c254bf7d8d2fb2f54d1c985457779.txt\n",
      "13/05/2025  10:41             1ÿ124 bees_jpg.rf.e5a331cdf27d12babac47fd7a2ad10f1.txt\n",
      "13/05/2025  10:41                54 bee_honebee_flower_jpg.rf.46fe8a1e4815c5f114e901823bf66625.txt\n",
      "13/05/2025  10:41                 0 blueberries-2x_jpg.rf.51e0616f67e4db9a6ba59fefb7a41a84.txt\n",
      "13/05/2025  10:41                78 california-poppies-eschscholzia-californica-and-western-honey-bee-apis-mellifera-2FX3WP2_jpg.rf.35987f96725fd4ec72bc4ab388e033e0.txt\n",
      "13/05/2025  10:41               345 closeup-macro-bees-wax-frame-honeycomb-apiary-honey-bee-hive-selective-focus-189880681_jpg.rf.ab05d3ce451d804df0388849b56c8cf7.txt\n",
      "13/05/2025  10:41                78 closeup-macro-of-bees-on-wax-frame-honeycomb-in-apiary-honey-bee-hive-with-selective-focus-2C6D0EM_jpg.rf.d8b15e72398dee97ce790e2188aeceaf.txt\n",
      "13/05/2025  10:41               651 dearth-period-768x768_jpg.rf.8196078e8c4c66ed0d64879beb429db2.txt\n",
      "13/05/2025  10:41               618 Depositphotos_2014490_l-2015_jpg.rf.283cbe0942a879baca544263effc1348.txt\n",
      "13/05/2025  10:41             1ÿ514 depositphotos_25590095-stock-photo-queen-bee-in-bee-hive_jpg.rf.72c52488be7e1240b3775ccae8e63904.txt\n",
      "13/05/2025  10:41               458 depositphotos_59172051-stock-photo-flying-bees_jpg.rf.91e21ea2e43c41ceb042f6a378f604af.txt\n",
      "13/05/2025  10:41                 0 droneFrame-1-_jpg.rf.3f618ce62e89007f9753261488abbc28.txt\n",
      "13/05/2025  10:41             2ÿ305 Drones-845x321_jpg.rf.cf7f81ac3a1f9479651a678f82bfcaf8.txt\n",
      "13/05/2025  10:41             2ÿ695 drones-on-the-way-out-e1513549397775_jpg.rf.2006f174e889225bfcc6f4b9dafc3246.txt\n",
      "13/05/2025  10:41                67 drone_jpg.rf.6cf7255687e6be84dcefd29abe3de682.txt\n",
      "13/05/2025  10:41             5ÿ098 DSC_0402_jpg.rf.b16ed8fc0fbc6a0c2083ada48326ee8e.txt\n",
      "13/05/2025  10:41               547 f0128578-800px-wm_jpg.rf.cda603d701001c1b729aa3962cf54f9e.txt\n",
      "13/05/2025  10:41               473 FB_20210307_163143_mp4-10_jpg.rf.24c206eccc748b8cbd56cdf590ecb8ec.txt\n",
      "13/05/2025  10:41               383 FB_20210307_163143_mp4-11_jpg.rf.6c920d5032cc7d81d7e203d4b45972e3.txt\n",
      "13/05/2025  10:41               406 FB_20210307_163143_mp4-12_jpg.rf.e89409e8b2d7885486d15129b5c21d71.txt\n",
      "13/05/2025  10:41               605 FB_20210307_163143_mp4-14_jpg.rf.a0ef5debea8acaa5558c5ac511fcafc2.txt\n",
      "13/05/2025  10:41               533 FB_20210307_163143_mp4-15_jpg.rf.15bd29ab6590bc0574c021f105c31808.txt\n",
      "13/05/2025  10:41               309 FB_20210307_163143_mp4-17_jpg.rf.bd852da1fb639852dea8b2d0aa1337e8.txt\n",
      "13/05/2025  10:41               197 FB_20210307_163143_mp4-18_jpg.rf.d96ad8d188fef93ef01e53d07b864671.txt\n",
      "13/05/2025  10:41               545 FB_20210307_163143_mp4-20_jpg.rf.758f68888c8cbf877aceae7572022b16.txt\n",
      "13/05/2025  10:41               457 FB_20210307_163143_mp4-22_jpg.rf.a68f36b648550568c36e0014456a1af3.txt\n",
      "13/05/2025  10:41               709 FB_20210307_163143_mp4-24_jpg.rf.97d1331058263219dbf9813bf29875b9.txt\n",
      "13/05/2025  10:41             1ÿ092 FB_20210307_163143_mp4-25_jpg.rf.a440371cde94ef3c4cf44ab13b75b4d3.txt\n",
      "13/05/2025  10:41             1ÿ262 FB_20210307_163143_mp4-29_jpg.rf.5f0d3d4a8e853a525895aabb7fe8170f.txt\n",
      "13/05/2025  10:41             1ÿ477 FB_20210307_163143_mp4-2_jpg.rf.0838e2381295e31bf6178f099aa1838e.txt\n",
      "13/05/2025  10:41             1ÿ765 FB_20210307_163143_mp4-30_jpg.rf.4801e5770aedfd3ee04ca2d96d86e1af.txt\n",
      "13/05/2025  10:41             1ÿ386 FB_20210307_163143_mp4-31_jpg.rf.99112479f9f0cc7d27212f2cf1073671.txt\n",
      "13/05/2025  10:41             1ÿ114 FB_20210307_163143_mp4-32_jpg.rf.0b020c115064ee147e31eebcf698d86a.txt\n",
      "13/05/2025  10:41             1ÿ145 FB_20210307_163143_mp4-33_jpg.rf.6a5430e223a5aefa4985837c3fd90ecf.txt\n",
      "13/05/2025  10:41             1ÿ952 FB_20210307_163143_mp4-37_jpg.rf.05ed1c77f5aae7f59250888f8b79b95c.txt\n",
      "13/05/2025  10:41             1ÿ002 FB_20210307_163143_mp4-3_jpg.rf.63d0e2dd828e2f4368903e6ffd3414d0.txt\n",
      "13/05/2025  10:41               927 FB_20210307_163143_mp4-6_jpg.rf.c2b584777c3c4ede3d53331b6042f23e.txt\n",
      "13/05/2025  10:41               544 FB_20210307_163143_mp4-7_jpg.rf.579fd480ffad55ef863e58f1b6b7412f.txt\n",
      "13/05/2025  10:41               442 FB_20210307_163143_mp4-8_jpg.rf.42ed596002902c24a1acc392e37f95df.txt\n",
      "13/05/2025  10:41             1ÿ452 file-1-_png.rf.c2aab92772db15b3f009645f812353cc.txt\n",
      "13/05/2025  10:41             2ÿ258 file-photo-honeybee-colony_jpg.rf.3620faa60539ae672e8472a02de42100.txt\n",
      "13/05/2025  10:41               671 Flow-frames-500x500_jpg.rf.665508be5234f5a7813c7e373d3a788f.txt\n",
      "13/05/2025  10:41                 0 foundationless-frame-layens_jpg.rf.4bcf86c0c39b48e0007e5e65de54907c.txt\n",
      "13/05/2025  10:41                68 frame103_jpg.rf.66fa56acc3977e23b3d72eedbca08dab.txt\n",
      "13/05/2025  10:41                81 frame104_jpg.rf.2fe4833774fb0852a0e3d6ac35622e2b.txt\n",
      "13/05/2025  10:41                72 frame105_jpg.rf.40deb99fb89773929bc7aa4caf759373.txt\n",
      "13/05/2025  10:41                80 frame106_jpg.rf.69346d02ea526a5160c92cfee00f3d89.txt\n",
      "13/05/2025  10:41                70 frame107_jpg.rf.3b8d7f6bfde2f39c721aee7d427b32e6.txt\n",
      "13/05/2025  10:41                70 frame108_jpg.rf.15335c768842760cb5a4e32a43b37a4c.txt\n",
      "13/05/2025  10:41                71 frame109_jpg.rf.2a668101547c828c583eac290a856fc3.txt\n",
      "13/05/2025  10:41                81 frame111_jpg.rf.c848527981123afadaf77c3faaaf59e8.txt\n",
      "13/05/2025  10:41                82 frame112_jpg.rf.324d7cc38a211125d8761a05bd5f46d9.txt\n",
      "13/05/2025  10:41               156 frame114_jpg.rf.bf81f628a0411571c2664ba0e9946be2.txt\n",
      "13/05/2025  10:41               155 frame115_jpg.rf.293d1305a1a7b0a9d6ed73403e9fd588.txt\n",
      "13/05/2025  10:41               163 frame116_jpg.rf.70ae049b9a9d98f5242b21e0ab9921d6.txt\n",
      "13/05/2025  10:41               152 frame117_jpg.rf.b34b15d39abbf74f01552a28be939d0f.txt\n",
      "13/05/2025  10:41               146 frame118_jpg.rf.12a88e6c0d5f6e60afbbb83d73f4a1be.txt\n",
      "13/05/2025  10:41                 0 frame11_jpg.rf.50032a1aa4e6c703e4307b618a2261ce.txt\n",
      "13/05/2025  10:41                81 frame125_jpg.rf.d0898c754ba1d50da8494e58a0748109.txt\n",
      "13/05/2025  10:41                81 frame126_jpg.rf.fea0d0084a5d0fc5b14fa8c6ca1b5b0f.txt\n",
      "13/05/2025  10:41                55 frame127_jpg.rf.c736c446350e0c675ba30d140b655279.txt\n",
      "13/05/2025  10:41                81 frame129_jpg.rf.5d36d523795203331eeb4ac3afdf19dd.txt\n",
      "13/05/2025  10:41                 0 frame12_jpg.rf.13c9f5873dcb1658c5f1172ad117ef08.txt\n",
      "13/05/2025  10:41                81 frame130_jpg.rf.bbdf696320241d09b9be90d61406888b.txt\n",
      "13/05/2025  10:41                71 frame131_jpg.rf.c18c674c7ea2e132fcdb11d4b6b2c73a.txt\n",
      "13/05/2025  10:41                79 frame133_jpg.rf.9b664fbf3c3c2975ba2da6ea5fbe08d6.txt\n",
      "13/05/2025  10:41                81 frame134_jpg.rf.4f55d4dea55199da7beea1837557449b.txt\n",
      "13/05/2025  10:41                80 frame136_jpg.rf.aefe806a8158ad6bb0e7293b16b928a6.txt\n",
      "13/05/2025  10:41                71 frame137_jpg.rf.fbd39824e3f7305e7f9727274fc4b8f0.txt\n",
      "13/05/2025  10:41                82 frame139_jpg.rf.7a48c8e52d5c142576a811ae20122af6.txt\n",
      "13/05/2025  10:41                81 frame140_jpg.rf.ee053efec202d5b1b72e280cd94cd115.txt\n",
      "13/05/2025  10:41                69 frame141_jpg.rf.4e61b0774315e482b36f2506b246b393.txt\n",
      "13/05/2025  10:41                81 frame142_jpg.rf.2574dd706230ba5f0248f10ca8f8cf25.txt\n",
      "13/05/2025  10:41                73 frame143_jpg.rf.63f32d62069eb4a20f375842561202d9.txt\n",
      "13/05/2025  10:41                80 frame144_jpg.rf.036a3f7284484dc9e43903a373c1f61a.txt\n",
      "13/05/2025  10:41                70 frame145_jpg.rf.0cd63e02963f015eba2cb4ef2a9abaa7.txt\n",
      "13/05/2025  10:41                82 frame147_jpg.rf.8ec91db5504cdbffd2faabecef2b3041.txt\n",
      "13/05/2025  10:41                80 frame148_jpg.rf.143b21ee071a3bb98c3dd54adfe2bcf0.txt\n",
      "13/05/2025  10:41                71 frame150_jpg.rf.b8f97b15bc041dd13fe810b35bbd31ef.txt\n",
      "13/05/2025  10:41                81 frame152_jpg.rf.89a018f3c961712fb321403ea8b526ee.txt\n",
      "13/05/2025  10:41                64 frame153_jpg.rf.e6e091b0a5e8ba030ebd17f8cb935286.txt\n",
      "13/05/2025  10:41                71 frame155_jpg.rf.e82b1f2ab3bb23b8d075867fe275871d.txt\n",
      "13/05/2025  10:41                66 frame157_jpg.rf.ba17c8f8df2073c7f350d54532e14c7f.txt\n",
      "13/05/2025  10:41                81 frame158_jpg.rf.cea442834d698388a8049b4df2482b7b.txt\n",
      "13/05/2025  10:41                 0 frame15_jpg.rf.2ff64ac48c19490eda915c6c188674b3.txt\n",
      "13/05/2025  10:41                82 frame160_jpg.rf.48eb85e9435788beabeba94b6f4419ef.txt\n",
      "13/05/2025  10:41                81 frame162_jpg.rf.09a7403e59d1ee05a14438d591a18fc0.txt\n",
      "13/05/2025  10:41                71 frame163_jpg.rf.604e38361b99513b7842a6708a94af10.txt\n",
      "13/05/2025  10:41                71 frame164_jpg.rf.1a2811d6ec919e07572e07029ab192a7.txt\n",
      "13/05/2025  10:41                74 frame165_jpg.rf.160b6af876d2287f96099331a0397796.txt\n",
      "13/05/2025  10:41                81 frame167_jpg.rf.a5180e14adeae276e92ecefaa588022d.txt\n",
      "13/05/2025  10:41                71 frame169_jpg.rf.a08cee35f8395dd5467e98ada68880c8.txt\n",
      "13/05/2025  10:41                81 frame170_jpg.rf.8a3895c7abca39e52c9241fdb6479e75.txt\n",
      "13/05/2025  10:41                70 frame171_jpg.rf.65d9223914bfc383993b74301b4269a8.txt\n",
      "13/05/2025  10:41                81 frame172_jpg.rf.6395c2f6250b55ba6f4b7006e0e37250.txt\n",
      "13/05/2025  10:41                74 frame173_jpg.rf.2be3eecd271c5d902d6dfe6238937ac0.txt\n",
      "13/05/2025  10:41                80 frame176_jpg.rf.0cf7d1eac216e7a08d26e23a239200a6.txt\n",
      "13/05/2025  10:41                69 frame177_jpg.rf.e125a464c4d0b8de869021d502248a2b.txt\n",
      "13/05/2025  10:41                73 frame178_jpg.rf.3be13eb1ee2a74409b71ae0217b37b98.txt\n",
      "13/05/2025  10:41                81 frame179_jpg.rf.1add0b9a7bd5fac27bae0c529d4d6fd7.txt\n",
      "13/05/2025  10:41                 0 frame17_jpg.rf.822a9ed9fed7a00666038b5d991fc5cd.txt\n",
      "13/05/2025  10:41                81 frame180_jpg.rf.02bf3aa351ba5837e8952c38539f319f.txt\n",
      "13/05/2025  10:41                79 frame181_jpg.rf.148292d3e98137a9e69876d406e6ec70.txt\n",
      "13/05/2025  10:41                70 frame184_jpg.rf.e224c594479fe2adfc9182271d9c8d94.txt\n",
      "13/05/2025  10:41                82 frame185_jpg.rf.cdabb4ef96333b3857ca842d7463c641.txt\n",
      "13/05/2025  10:41                79 frame187_jpg.rf.209d60219fd55499de21cf00f39a0284.txt\n",
      "13/05/2025  10:41                80 frame189_jpg.rf.ec57a167e94296628baabf1fa441abc1.txt\n",
      "13/05/2025  10:41                 0 frame18_jpg.rf.2968211897c12735b7124d0b9bb62c40.txt\n",
      "13/05/2025  10:41                73 frame190_jpg.rf.3e3e853e6dd728c869e9b4d80702e6fe.txt\n",
      "13/05/2025  10:41                82 frame191_jpg.rf.beb3b4af429b23461c8b3f2304bdb48b.txt\n",
      "13/05/2025  10:41                80 frame192_jpg.rf.90d51af2b9472709d7a0e705477afa0e.txt\n",
      "13/05/2025  10:41                80 frame195_jpg.rf.71f315c311133460a0211153a9a15670.txt\n",
      "13/05/2025  10:41                81 frame196_jpg.rf.d9f608d34580fe6bf71d3d2832358874.txt\n",
      "13/05/2025  10:41                82 frame197_jpg.rf.075f4212db2ca7b2ce6248ec3a6c2e51.txt\n",
      "13/05/2025  10:41                80 frame199_jpg.rf.38373fcf32a66e47d1bf8f08066b8046.txt\n",
      "13/05/2025  10:41                81 frame201_jpg.rf.9c51c350d72af1188e49b2251b263764.txt\n",
      "13/05/2025  10:41                82 frame202_jpg.rf.65d5dfc1658365f4b1791c50c88bbf00.txt\n",
      "13/05/2025  10:41                73 frame205_jpg.rf.3caa17f3b7c8c0070d37d6e3052b1c28.txt\n",
      "13/05/2025  10:41                67 frame206_jpg.rf.0347110f6daddf37eb7d45170018dfe6.txt\n",
      "13/05/2025  10:41                82 frame207_jpg.rf.5de364d754ec8310d16718d7d37a0a40.txt\n",
      "13/05/2025  10:41                80 frame208_jpg.rf.2037a6e4aad345a67a1ecff21ac8fea1.txt\n",
      "13/05/2025  10:41                81 frame209_jpg.rf.977752618477aae4f31c250b95fb3ee2.txt\n",
      "13/05/2025  10:41                81 frame210_jpg.rf.3cd7da01b5b10182e1860872a0456875.txt\n",
      "13/05/2025  10:41                71 frame211_jpg.rf.b33fb1d67b76f0fc427b76a1d171e707.txt\n",
      "13/05/2025  10:41                79 frame212_jpg.rf.4e19c0796e3018eab220071ac9fc74d9.txt\n",
      "13/05/2025  10:41                72 frame213_jpg.rf.c9db098fd3dee8b68b48334bad6ef132.txt\n",
      "13/05/2025  10:41                72 frame214_jpg.rf.6853c8397254db5af7ce13950a0bb233.txt\n",
      "13/05/2025  10:41                81 frame215_jpg.rf.9a69b03316bb5e4ea0c37fa5cfa2c443.txt\n",
      "13/05/2025  10:41                80 frame216_jpg.rf.54e81544f9410dce696373087a106ee9.txt\n",
      "13/05/2025  10:41                80 frame217_jpg.rf.583d7183092020027be91d5e79799a19.txt\n",
      "13/05/2025  10:41                68 frame218_jpg.rf.f9bf1867e9fd9dc87e25adf2d3480202.txt\n",
      "13/05/2025  10:41                81 frame219_jpg.rf.feb09e221ce094764fb926de302b2dc3.txt\n",
      "13/05/2025  10:41                81 frame220_jpg.rf.95757a7837e5d18f3a875bed1d6804ce.txt\n",
      "13/05/2025  10:41                71 frame221_jpg.rf.e1f692872757d1a8c01bcc71bfabebf9.txt\n",
      "13/05/2025  10:41                80 frame224_jpg.rf.c216bdeb2c31cfcbd587ff541a9e5f10.txt\n",
      "13/05/2025  10:41                72 frame225_jpg.rf.50ff3dd7abeb954f1c4d4036bbc591b9.txt\n",
      "13/05/2025  10:41                82 frame226_jpg.rf.c3935f88641ed03fc9cbd7fcfca3773a.txt\n",
      "13/05/2025  10:41                73 frame227_jpg.rf.7151f431347647b9f83ed2353fe7a302.txt\n",
      "13/05/2025  10:41                 0 frame22_jpg.rf.771cf356ffbbc4741b6459a6a1a0c805.txt\n",
      "13/05/2025  10:41               153 frame230_jpg.rf.e96c26972e6ff05f4d326fa5599961a7.txt\n",
      "13/05/2025  10:41                81 frame232_jpg.rf.7f28510edec26279e440161fe0548afe.txt\n",
      "13/05/2025  10:41                82 frame233_jpg.rf.df49e9aeb3089b7a82302e52b9fe85f1.txt\n",
      "13/05/2025  10:41                82 frame234_jpg.rf.6d55d4e0d7f0ecc1a1132e353892cd21.txt\n",
      "13/05/2025  10:41                69 frame235_jpg.rf.4331b29cc16e6d72067f881b2e9c4d6d.txt\n",
      "13/05/2025  10:41                71 frame238_jpg.rf.be7c7172582d8907ddd2e62db7d87b0f.txt\n",
      "13/05/2025  10:41                72 frame239_jpg.rf.3b0395768f5037041629d45fb6955c8a.txt\n",
      "13/05/2025  10:41                80 frame240_jpg.rf.50022316d41145c8024833b8474aa0b8.txt\n",
      "13/05/2025  10:41                65 frame241_jpg.rf.70d9be9f1e680fd9d3e130774b51bb5e.txt\n",
      "13/05/2025  10:41                74 frame242_jpg.rf.1c92842453c7f40f7ba9818d3b6a7303.txt\n",
      "13/05/2025  10:41                73 frame243_jpg.rf.af34d3c54dcd09da07d454beb0d20f39.txt\n",
      "13/05/2025  10:41                81 frame246_jpg.rf.b183e2988eed25a9ab83a81c9999eceb.txt\n",
      "13/05/2025  10:41                69 frame249_jpg.rf.224602e4f3eeb069605c0f6fcabb4d7e.txt\n",
      "13/05/2025  10:41                 0 frame24_jpg.rf.c67cc53c025b27bf28bb94a8e316e301.txt\n",
      "13/05/2025  10:41                81 frame251_jpg.rf.0b1fe434a2ca29ed8562ecd487f51e8a.txt\n",
      "13/05/2025  10:41                79 frame252_jpg.rf.05c328afdd14bbf7f8afe719f4aabc35.txt\n",
      "13/05/2025  10:41                82 frame254_jpg.rf.a152785184bf6d8830ac2cffebc16c50.txt\n",
      "13/05/2025  10:41                70 frame255_jpg.rf.50fcd7b669b861c3cb602dd14c20269a.txt\n",
      "13/05/2025  10:41                72 frame257_jpg.rf.34ea681e61935109250cf406a786e714.txt\n",
      "13/05/2025  10:41                81 frame258_jpg.rf.392bb0a8cae75c83d336c11aa38c0c1d.txt\n",
      "13/05/2025  10:41                 0 frame25_jpg.rf.d97109180f8214878220d2959d970ea2.txt\n",
      "13/05/2025  10:41                69 frame261_jpg.rf.3d5905ca279dc57618b5c35c7ee1f746.txt\n",
      "13/05/2025  10:41                81 frame262_jpg.rf.87f4e44bfe5a93dfebdb4d89679f41f4.txt\n",
      "13/05/2025  10:41                81 frame266_jpg.rf.515b1d74c4eccfe29f04bf42238e0439.txt\n",
      "13/05/2025  10:41                 0 frame26_jpg.rf.de5f17db99104ce0af84ca7392bfc3cf.txt\n",
      "13/05/2025  10:41                70 frame270_jpg.rf.3843fd2d5c2161b6ebb6f95012858589.txt\n",
      "13/05/2025  10:41                82 frame271_jpg.rf.ca81f2fb0d988e8739e8302c9284c477.txt\n",
      "13/05/2025  10:41                80 frame273_jpg.rf.6d8eb4d4aaf5d73aa87ae9a2ce7b25ba.txt\n",
      "13/05/2025  10:41                81 frame274_jpg.rf.9a9aba855c1b25bfb94d338a7f92b040.txt\n",
      "13/05/2025  10:41                71 frame276_jpg.rf.bce01758f074584ec7bbd29cfb671d54.txt\n",
      "13/05/2025  10:41                 0 frame27_jpg.rf.63483a198a5289daa52b70384400b866.txt\n",
      "13/05/2025  10:41                72 frame280_jpg.rf.4cfce645c35812a95441fc7dd7718015.txt\n",
      "13/05/2025  10:41                73 frame281_jpg.rf.0c03b08c2ef04039b82e1b18055e8d7c.txt\n",
      "13/05/2025  10:41                81 frame283_jpg.rf.49f886d590e2cd0f8e1f085780caebc4.txt\n",
      "13/05/2025  10:41                72 frame284_jpg.rf.982df012d5d36cd0f7807da38042e362.txt\n",
      "13/05/2025  10:41                64 frame285_jpg.rf.c879582695334da7c6661e872b8fe8de.txt\n",
      "13/05/2025  10:41                81 frame286_jpg.rf.942583eaad04ea134a048cedc6b3bfc7.txt\n",
      "13/05/2025  10:41                80 frame288_jpg.rf.8bac32252334592dccb5885f506340db.txt\n",
      "13/05/2025  10:41                 0 frame28_jpg.rf.9fedc689d39bdf854bee4c3bd6c1ac72.txt\n",
      "13/05/2025  10:41                73 frame291_jpg.rf.a99117f83c5fabc82459a3952aeb2bff.txt\n",
      "13/05/2025  10:41                81 frame293_jpg.rf.d8e38400a2652da495971cad41c34d99.txt\n",
      "13/05/2025  10:41                80 frame295_jpg.rf.3d1240f9a1102d88807b3da4fa82de60.txt\n",
      "13/05/2025  10:41                72 frame296_jpg.rf.d3d99fd871e8aefbbdde4d5ff0417222.txt\n",
      "13/05/2025  10:41                63 frame298_jpg.rf.7cef4a5935803c99909adf3dcce9bd62.txt\n",
      "13/05/2025  10:41                 0 frame29_jpg.rf.59ec983889cc5804d00bd8033f99e84f.txt\n",
      "13/05/2025  10:41                 0 frame2_jpg.rf.86ca62e062d5a6a0bad8252c8c0621ea.txt\n",
      "13/05/2025  10:41                80 frame300_jpg.rf.5086f9849b3e14e1ced9bd41e8c042f1.txt\n",
      "13/05/2025  10:41                71 frame301_jpg.rf.4a7da996a1fd03cbb71cd56ce88be440.txt\n",
      "13/05/2025  10:41                80 frame302_jpg.rf.b78c26aa356f2bac511c7967fbd9b4f7.txt\n",
      "13/05/2025  10:41                72 frame306_jpg.rf.c8271d11b7bf4fae39e2a0eb9301f417.txt\n",
      "13/05/2025  10:41                71 frame307_jpg.rf.25400df81465311ca10f3e0f4fe87c03.txt\n",
      "13/05/2025  10:41                70 frame309_jpg.rf.3d9b0bf14caeaf18d7e2a5ba32424342.txt\n",
      "13/05/2025  10:41                 0 frame30_jpg.rf.8ccef301c1edde3072fe3dd62327d052.txt\n",
      "13/05/2025  10:41                70 frame310_jpg.rf.819a10b9b03545c13983cea32fe8c8ab.txt\n",
      "13/05/2025  10:41                80 frame312_jpg.rf.8d79e9190e77729a335720676d7ac0da.txt\n",
      "13/05/2025  10:41                80 frame313_jpg.rf.2c904c89344947fd4f0b72e4624c3546.txt\n",
      "13/05/2025  10:41                81 frame314_jpg.rf.4784e6d61df6ff5e79baf290d0447245.txt\n",
      "13/05/2025  10:41                81 frame317_jpg.rf.7bc480cfacafc2ea8251ec9684ce2a43.txt\n",
      "13/05/2025  10:41                82 frame318_jpg.rf.ccbf2286120c8af65aa0d1507cd7ff84.txt\n",
      "13/05/2025  10:41                70 frame319_jpg.rf.d08439a058d06c533fcc08f6aee25970.txt\n",
      "13/05/2025  10:41                 0 frame31_jpg.rf.473de3029b6759ac3732f60b84762c59.txt\n",
      "13/05/2025  10:41                71 frame321_jpg.rf.30e240d495390e9b737d0ed71a414d5b.txt\n",
      "13/05/2025  10:41                81 frame322_jpg.rf.b47925cf909cae2dfed44d1516f47623.txt\n",
      "13/05/2025  10:41                71 frame323_jpg.rf.d2e4caf27abf6d3280fb590880de35ae.txt\n",
      "13/05/2025  10:41                82 frame325_jpg.rf.bc0c160dfaddb661b916836d7825f7e8.txt\n",
      "13/05/2025  10:41                 0 frame32_jpg.rf.064139507603d6a0e8f3f312472a981a.txt\n",
      "13/05/2025  10:41                 0 frame34_jpg.rf.299881d6ce5d3d27e47d7aadf5c2bdd1.txt\n",
      "13/05/2025  10:41                 0 frame35_jpg.rf.2347e2b34981d8f42e02fa2c2a6dfc87.txt\n",
      "13/05/2025  10:41                 0 frame37_jpg.rf.69e7ec345654d2eb794c5c24713a562b.txt\n",
      "13/05/2025  10:41                 0 frame38_jpg.rf.983f1171952d222a5a94f18510b540be.txt\n",
      "13/05/2025  10:41                 0 frame39_jpg.rf.cb4713300cf474f0513076b15862097d.txt\n",
      "13/05/2025  10:41                 0 frame3_jpg.rf.a8e7a15c90cf09c94966248199c9f493.txt\n",
      "13/05/2025  10:41                 0 frame40_jpg.rf.4fb3578ab00812a02f02a4dbb7d62a74.txt\n",
      "13/05/2025  10:41                 0 frame44_jpg.rf.cf23c8ad027226c1f5d07cc8fbbb6865.txt\n",
      "13/05/2025  10:41                 0 frame45_jpg.rf.11399455efd92248f85d08e39c882f3d.txt\n",
      "13/05/2025  10:41                 0 frame47_jpg.rf.ea93ad91a1b73c276932c46635106862.txt\n",
      "13/05/2025  10:41                 0 frame48_jpg.rf.b931317f0666fac3b231b115fb89cd67.txt\n",
      "13/05/2025  10:41                 0 frame49_jpg.rf.637a76dc5c49e5b90ac9cb7ce0ac5f43.txt\n",
      "13/05/2025  10:41                80 frame51_jpg.rf.eaf779a471597b8bc611cf3899f818b9.txt\n",
      "13/05/2025  10:41                69 frame52_jpg.rf.f37e1a53daa3bddab3ac61952d642de9.txt\n",
      "13/05/2025  10:41                81 frame53_jpg.rf.3eea3437608575f8873d6504e6e42fc3.txt\n",
      "13/05/2025  10:41                74 frame54_jpg.rf.86236562a41abbe176f26882c929ad5e.txt\n",
      "13/05/2025  10:41                72 frame55_jpg.rf.83d5969bcc6d3087a091cab416124108.txt\n",
      "13/05/2025  10:41                63 frame57_jpg.rf.2a29095d2b20fb3a19739fb02feb1b6e.txt\n",
      "13/05/2025  10:41                79 frame58_jpg.rf.5c82ea6d16b93b6bab6698e3f458cf18.txt\n",
      "13/05/2025  10:41                81 frame59_jpg.rf.f01f3c0fafb8016cdd4f48773ea0fd84.txt\n",
      "13/05/2025  10:41                 0 frame5_jpg.rf.96fa6aad4040ce705a5c97e54963792f.txt\n",
      "13/05/2025  10:41                70 frame60_jpg.rf.0df1951335c39be1b4630c348b108915.txt\n",
      "13/05/2025  10:41                72 frame61_jpg.rf.df0dd3da5adbb465c32a668474908246.txt\n",
      "13/05/2025  10:41                82 frame63_jpg.rf.8f063035b68cbac036fe91d74528a090.txt\n",
      "13/05/2025  10:41                68 frame65_jpg.rf.112f4a91d2ce4afa93814e30d7ade9da.txt\n",
      "13/05/2025  10:41                80 frame66_jpg.rf.2987e2c09f4d6bf49d0d78c9d0ce6869.txt\n",
      "13/05/2025  10:41                82 frame67_jpg.rf.315d15c2cc1a5788c6ce28002509eb8d.txt\n",
      "13/05/2025  10:41                 0 frame6_jpg.rf.b048b2156dff2ec79b1ab4e61ab72262.txt\n",
      "13/05/2025  10:41                80 frame70_jpg.rf.21b680662c5764dbf6121ab88dc21f07.txt\n",
      "13/05/2025  10:41                82 frame71_jpg.rf.320959b8975173c6f92d40bf7b651c75.txt\n",
      "13/05/2025  10:41                81 frame72_jpg.rf.c232189c6b69d0d570434ef64cdf43db.txt\n",
      "13/05/2025  10:41                70 frame73_jpg.rf.7c7cfcb251f7ddcb8f3a6549b8c9d047.txt\n",
      "13/05/2025  10:41                71 frame74_jpg.rf.bc173e0c4d86f964fe05eaf7cb7285f9.txt\n",
      "13/05/2025  10:41                81 frame76_jpg.rf.433066eb708aedaf68b52c586aebb11f.txt\n",
      "13/05/2025  10:41                80 frame77_jpg.rf.879c5e5debafcd2ea438967491e28427.txt\n",
      "13/05/2025  10:41                72 frame78_jpg.rf.cd3dec2ae87aeb227640c7701942f11b.txt\n",
      "13/05/2025  10:41                 0 frame7_jpg.rf.a0b31f1623ba5425bca604854077ada2.txt\n",
      "13/05/2025  10:41                71 frame80_jpg.rf.3409b54426f4772f87bb294ea2bbe8e0.txt\n",
      "13/05/2025  10:41                82 frame81_jpg.rf.6fd74fdd7bad93f9763aad7b3b4a4c50.txt\n",
      "13/05/2025  10:41                81 frame82_jpg.rf.b7f571c4d667b7c057fce0d4bdb0bce2.txt\n",
      "13/05/2025  10:41                72 frame83_jpg.rf.8ff9a89e28126d7f85ad616b424bf9d1.txt\n",
      "13/05/2025  10:41                81 frame84_jpg.rf.d90a7b79b6f9182cbfb15ee53709350c.txt\n",
      "13/05/2025  10:41                71 frame85_jpg.rf.786685d9efd1dc893b530403670d5daa.txt\n",
      "13/05/2025  10:41                81 frame87_jpg.rf.bf4c4226cc39216998cbbcfc3334100d.txt\n",
      "13/05/2025  10:41                70 frame89_jpg.rf.3e2273a5f3dddec7f3b0e5917289d8ec.txt\n",
      "13/05/2025  10:41                 0 frame8_jpg.rf.245e46f5d69533e6b5f7529c10a26e84.txt\n",
      "13/05/2025  10:41                80 frame91_jpg.rf.1eedf536806eb9ea077e5339dba96886.txt\n",
      "13/05/2025  10:41                81 frame92_jpg.rf.f1e2c993bc6667fb874ffdbc900cf015.txt\n",
      "13/05/2025  10:41                81 frame94_jpg.rf.470ef3095d8909eafe72b7ced8173e9c.txt\n",
      "13/05/2025  10:41                70 frame95_jpg.rf.1d9c017e16a8090f4747eefcc79a293d.txt\n",
      "13/05/2025  10:41                62 frame96_jpg.rf.4e1ccdfa966d323e72f38e03ad88f3d3.txt\n",
      "13/05/2025  10:41                80 frame97_jpg.rf.de653fec07e4e114791ef305ac15ce6f.txt\n",
      "13/05/2025  10:41                81 frame99_jpg.rf.5d09698cd46e39f92594c73f98fbee1f.txt\n",
      "13/05/2025  10:41                 0 frames_jpg.rf.6f7e1e28ac8f9cccd4cff36ce558170e.txt\n",
      "13/05/2025  10:41                 0 FullFrameHoneySmall_jpg.rf.6f011d909443c648b18e4c82e8579343.txt\n",
      "13/05/2025  10:41                70 gettyimages-130832720-1024x1024_jpg.rf.272d784c94cd2b7b6c216018ec3c6aff.txt\n",
      "13/05/2025  10:41             1ÿ516 GettyImages-135627060-58b8e18d3df78c353c24548b_jpg.rf.e4f205a679942d059b6f0dad4d8d52c4.txt\n",
      "13/05/2025  10:41               634 GettyImages-532610649-1-e1591970644245_jpg.rf.48fb83f39f51521d61ac547b18a03c77.txt\n",
      "13/05/2025  10:41                78 gettyimages-905068946-612x612_jpg.rf.2e16c0892b87208a841de9988b88db0f.txt\n",
      "13/05/2025  10:41                77 gettyimages-980662820-612x612_jpg.rf.9c802c376a5455429de5f27ef105d5ff.txt\n",
      "13/05/2025  10:41                79 gettyimages-999405610-612x612_jpg.rf.eda0ca3fb9944e43fb863864d400fdac.txt\n",
      "13/05/2025  10:41               260 Honey-Bee-Biology-of-Queens-Drones-and-Workers_jpg.rf.0156dd37ba714dacbcf1c077600a26ca.txt\n",
      "13/05/2025  10:41               948 honey-bee-eggs-1_jpg.rf.a8c90e650c01c692e2e4acae23097c57.txt\n",
      "13/05/2025  10:41                 0 HONEY-BEES-96fps-IN-4K-ULTRA-HD-_mp4-0_jpg.rf.07c3e267874fd22ac39be91fdab846c8.txt\n",
      "13/05/2025  10:41               947 HONEY-BEES-96fps-IN-4K-ULTRA-HD-_mp4-10_jpg.rf.473086ae5f2af88bfe810236468d2ad9.txt\n",
      "13/05/2025  10:41               224 HONEY-BEES-96fps-IN-4K-ULTRA-HD-_mp4-12_jpg.rf.0af005f204b4000e163195f09e2c7352.txt\n",
      "13/05/2025  10:41                 0 HONEY-BEES-96fps-IN-4K-ULTRA-HD-_mp4-16_jpg.rf.71b6794231b11207dca9b4d2d29530a9.txt\n",
      "13/05/2025  10:41             1ÿ015 HONEY-BEES-96fps-IN-4K-ULTRA-HD-_mp4-17_jpg.rf.e04148790bf0b0239a6a5a7dc4b22055.txt\n",
      "13/05/2025  10:41                 0 HONEY-BEES-96fps-IN-4K-ULTRA-HD-_mp4-18_jpg.rf.6c2a6f0b17a937dc617639cb3cee468e.txt\n",
      "13/05/2025  10:41               298 HONEY-BEES-96fps-IN-4K-ULTRA-HD-_mp4-19_jpg.rf.a7b69cf7f12a745fdd586834c499828d.txt\n",
      "13/05/2025  10:41                79 HONEY-BEES-96fps-IN-4K-ULTRA-HD-_mp4-1_jpg.rf.96d8dbeb5ee1762eb304434e971efe30.txt\n",
      "13/05/2025  10:41               445 HONEY-BEES-96fps-IN-4K-ULTRA-HD-_mp4-5_jpg.rf.d13cf464ca7efab3dc5d217047dc9b45.txt\n",
      "13/05/2025  10:41               295 HONEY-BEES-96fps-IN-4K-ULTRA-HD-_mp4-7_jpg.rf.50864f460f9cfc3e24ce5ef2dce30661.txt\n",
      "13/05/2025  10:41             1ÿ038 HONEY-BEES-96fps-IN-4K-ULTRA-HD-_mp4-8_jpg.rf.46d2aba9530fe6b31fb8d2875832fd85.txt\n",
      "13/05/2025  10:41             1ÿ316 honey-bees-drawn-comb_jpg.rf.8f3d0e0c5af479b80e36fe1c962e17b6.txt\n",
      "13/05/2025  10:41               697 honey-bees-feeding-on-sugar-syrup_jpg.rf.94f6cbeb6f8076fbdacefdd8eaaf25a3.txt\n",
      "13/05/2025  10:41             1ÿ773 honey-bees-flying-to-bee-hive-entry-some-140349517_jpg.rf.44926e0780fda0879c640cca88f10e97.txt\n",
      "13/05/2025  10:41               858 Honey-Processing-002_jpg.rf.1943614df67e6ee05a464040dd70039e.txt\n",
      "13/05/2025  10:41                77 honeybee-facts-1_jpg.rf.c1d9a9b2546e3635cd83b461627a325c.txt\n",
      "13/05/2025  10:41             1ÿ192 Honey_Bees-pe4tnk7lz5srglavtcla9qnaub25bu1igyu76zaa4y_jpg.rf.7e68da3ce15be58fd4c590918ed43704.txt\n",
      "13/05/2025  10:41               147 Honey_png.rf.f80cc2c66ef1228dbc29e81655917830.txt\n",
      "13/05/2025  10:41               697 image-asset_jpeg.rf.af50fe37d8ac25ecc899bc7ccb939c03.txt\n",
      "13/05/2025  10:41               509 image-asset_jpeg.rf.e36fa4e05b4f9a179c544bd7f18c54d3.txt\n",
      "13/05/2025  10:41             8ÿ849 img_20180907_104141871_1_jpg.rf.32c553375e92023c2f3f49cc2928dbb2.txt\n",
      "13/05/2025  10:41             4ÿ285 IMG_5645-scaled-e1592957148232_jpg.rf.5bc8c4463790f547623a7ff30c37316d.txt\n",
      "13/05/2025  10:41             1ÿ690 IMG_6937_jpg.rf.4294285edbb86997a088bfd456208a51.txt\n",
      "13/05/2025  10:41                 0 IMG_8077_jpg.rf.2acf36532fd37c6913c2a0a696e85cd3.txt\n",
      "13/05/2025  10:41               116 IMG_9120-1024x1024_jpg.rf.59cec0c48e86bf1f63d9508fbf42c88f.txt\n",
      "13/05/2025  10:41               179 Insects-Flight-Bees-Flying-Honey-Bees-Flowers-5709118_jpg.rf.1f0f1deac23fd956a77a97886001d67d.txt\n",
      "13/05/2025  10:41                 0 iStock-512059570-e1536079635107-1080x608_jpg.rf.8e9b899d33b5d02458da6bb611cb66f4.txt\n",
      "13/05/2025  10:41                78 istockphoto-179220568-612x612_jpg.rf.547d79f1792b17529c3cb486a3022ea3.txt\n",
      "13/05/2025  10:41               599 istockphoto-94378516-170667a_jpg.rf.d6e872d88f550d5969bc86e479bc8fcc.txt\n",
      "13/05/2025  10:41                 0 Juniperus_conferta_Blue_Pacific1-Cropped-compressor__36406-1507169400_jpg.rf.5fabba7c4579a3667352bb986c62273a.txt\n",
      "13/05/2025  10:41               971 kai-wenzel-dyGWrmJ_i4E-unsplash-scaled_jpg.rf.dbe2edc59bf4bc7729a79ac28f9069dc.txt\n",
      "13/05/2025  10:41                80 ld2spiux6sqcrvfiyqhb_jpg.rf.5ecab1c90354ff33fd386f457c7e3ec9.txt\n",
      "13/05/2025  10:41             1ÿ605 MACBEES_7-max-752x423_jpg.rf.0a8f87199ada19a94f991dd1df8a26fb.txt\n",
      "13/05/2025  10:41                 0 Mangum-photo_jpg.rf.2f3f183c456a182c0b558cae61eff19f.txt\n",
      "13/05/2025  10:41                 0 maple-honey-frame_jpg.rf.821220ee21d661209cd1ab9c4295045f.txt\n",
      "13/05/2025  10:41               179 maxresdefault_jpg.rf.5907017d026d0056c1ca71220636376b.txt\n",
      "13/05/2025  10:41                63 maxresdefault_jpg.rf.8fd86d1722d871bd426858af84c048aa.txt\n",
      "13/05/2025  10:41                 0 maxresdefault_jpg.rf.a6e759abed6de366cefc474b1ae34906.txt\n",
      "13/05/2025  10:41               462 maxresdefault_jpg.rf.cf089cd260574a63b760c7211b96de14.txt\n",
      "13/05/2025  10:41                 0 Monarch-on-Butterfly-Bush-Open-Graph_jpg.rf.10629f4a7213b77c00541dc3d689e248.txt\n",
      "13/05/2025  10:41                 0 Montana_Moss_Juniper_Bush_in_Landscaping-c__42353-1549755035_jpg.rf.0632a1b0080f35d3d8666c3fb5badd3f.txt\n",
      "13/05/2025  10:41               131 MultipleBeesonPhaceliaSFB-square_jpg.rf.096d08c6d4b14b88b8b03634fc863129.txt\n",
      "13/05/2025  10:41             1ÿ479 nature-4117738__340_jpg.rf.467bad0c568e05d10ca806467e0323d4.txt\n",
      "13/05/2025  10:41               234 NDBIMG_7997-680x625_jpg.rf.c0d26734e1ef7acf2206c82bef6d64d2.txt\n",
      "13/05/2025  10:41                77 P8240057_jpg.rf.16c9e2dd565cacac8399349c975814c6.txt\n",
      "13/05/2025  10:41             1ÿ924 Pesticides-harm-honeybee-nursing-behavior-larval-development-video-shows_jpg.rf.65d5679ccc7132245bad63021b85d6cd.txt\n",
      "13/05/2025  10:41                 0 pexels-lumn-235311-scaled-e1611222809903_jpg.rf.53520e9f8a130fcf0d81f1cfcd876fb1.txt\n",
      "13/05/2025  10:41             1ÿ008 pollen-larvae-cocoons-130837874-1200_jpg.rf.3c32c821d26da25ef10fb47a449aec50.txt\n",
      "13/05/2025  10:41                56 pollinating-bee_jpg.rf.1b74dac4ab06e7037c702a25cb4eb498.txt\n",
      "13/05/2025  10:41               467 queen-bee-and-worker-bee-size-difference_jpg.rf.0646f6ea1156a3eaf69a4154e206c689.txt\n",
      "13/05/2025  10:41             1ÿ496 queen-bee-bees-combs-queen-bee-bees-combs-118692505_jpg.rf.76a6227bca4db229e729f9c149fbc645.txt\n",
      "13/05/2025  10:41               824 queen-bee-bees-lays-eggs-honeycomb-104501931_jpg.rf.af5db3182b2f76030ac30161eef4176f.txt\n",
      "13/05/2025  10:41             1ÿ036 queen-bee-behind-work-9168312_jpg.rf.efdeec4252cce7bd9e15f7a0a3dc4d15.txt\n",
      "13/05/2025  10:41             3ÿ369 queen-bee-honeycomb_jpg.rf.a96be32792a226a070d728736d19bcbd.txt\n",
      "13/05/2025  10:41             1ÿ814 Queen-bee-on-comb_jpg.rf.2d938cb7a9cfd12680c12ab4c7e3cf0e.txt\n",
      "13/05/2025  10:41               666 queen-dies-in-hive_jpg.rf.cc74a7b0839d42d8b0c0788cf17890f9.txt\n",
      "13/05/2025  10:41               549 Queen-Maja-Dumat1_jpg.rf.a8855c049d492d211fca9a4d25c66086.txt\n",
      "13/05/2025  10:41               778 rupbilder-fotolia-CMJN-770x540_jpg.rf.8df75c0b63dde0d0f6058f7e2c708e92.txt\n",
      "13/05/2025  10:41               233 show_451813818_jpg.rf.d0e5ea051492224ecb928eb8f1b6ebb0.txt\n",
      "13/05/2025  10:41             2ÿ103 shutterstock_1265145760_honey_bees_flying_png.rf.af491b4005a0ac726917a7077a51474c.txt\n",
      "13/05/2025  10:41                 0 shutterstock_1824100826_jpg.rf.172a3d6aadda6d4f82573801102d935b.txt\n",
      "13/05/2025  10:41                66 shutterstock_364067591-scaled_jpg.rf.45bc8c389fac9d8c4cb8057a91d4763d.txt\n",
      "13/05/2025  10:41             6ÿ034 Superorganism-honey-bee-colony_jpg.rf.db486df03f3038cca84e0d3bf25b0c03.txt\n",
      "13/05/2025  10:41             1ÿ260 swarm-bees_jpg.rf.f63f63df5fc7c761da71614e004e2746.txt\n",
      "13/05/2025  10:41             1ÿ668 The-Bees-Are-Out-14th-March-2022-Sbd3sD47J28_x264_mov-12_jpg.rf.41c0909bae7fbc3a7c4ee4a502de8171.txt\n",
      "13/05/2025  10:41             2ÿ144 The-Bees-Are-Out-14th-March-2022-Sbd3sD47J28_x264_mov-3_jpg.rf.c68ac29875486e3d8417c83c6770f6f8.txt\n",
      "13/05/2025  10:41             1ÿ388 The-Bees-Are-Out-14th-March-2022-Sbd3sD47J28_x264_mov-8_jpg.rf.091537286f8d3c5bb424e470d20920d5.txt\n",
      "13/05/2025  10:41             1ÿ690 The-Bees-Are-Out-14th-March-2022-Sbd3sD47J28_x264_mov-9_jpg.rf.02a501f7ae3e14e303be445f8d86f874.txt\n",
      "13/05/2025  10:41               463 the-queen-bee-swarm-selective-focus-2B6MDAA_jpg.rf.9a76bdf751a1c6ad6c9d0f5f36f9af6e.txt\n",
      "13/05/2025  10:41                73 What-is-a-Drone-Honey-Bee_mp4-10_jpg.rf.cfff96ff0c3c0f6a8fe2772d7bbf5a49.txt\n",
      "13/05/2025  10:41                62 What-is-a-Drone-Honey-Bee_mp4-11_jpg.rf.be59bfde138d175c044bcd74e58e51a6.txt\n",
      "13/05/2025  10:41                63 What-is-a-Drone-Honey-Bee_mp4-12_jpg.rf.f5167ba4afd724608f8d00a2f8ba4fc7.txt\n",
      "13/05/2025  10:41                73 What-is-a-Drone-Honey-Bee_mp4-13_jpg.rf.04dd879aa45ff1b30bc458289e6c28ce.txt\n",
      "13/05/2025  10:41                72 What-is-a-Drone-Honey-Bee_mp4-14_jpg.rf.ee6899ad7399547b0112c658f2a949dc.txt\n",
      "13/05/2025  10:41                73 What-is-a-Drone-Honey-Bee_mp4-16_jpg.rf.817dfe2f370666f353563591eb41531d.txt\n",
      "13/05/2025  10:41                63 What-is-a-Drone-Honey-Bee_mp4-17_jpg.rf.a6d115f1e32290b6a69cfbfcaa40787d.txt\n",
      "13/05/2025  10:41                65 What-is-a-Drone-Honey-Bee_mp4-18_jpg.rf.8cfebcf4de1e64e67aec1538b904b5b2.txt\n",
      "13/05/2025  10:41                66 What-is-a-Drone-Honey-Bee_mp4-19_jpg.rf.b8360bf7d029410b7b6b0458d58e51d6.txt\n",
      "13/05/2025  10:41                60 What-is-a-Drone-Honey-Bee_mp4-1_jpg.rf.19bd75819df24f0d5ee73483a102a311.txt\n",
      "13/05/2025  10:41                72 What-is-a-Drone-Honey-Bee_mp4-2_jpg.rf.1252ad3ccde9302fbe50a19e7e5410a1.txt\n",
      "13/05/2025  10:41                66 What-is-a-Drone-Honey-Bee_mp4-7_jpg.rf.5a3973a03851f37761ea0dffea1db01f.txt\n",
      "13/05/2025  10:41                78 What-is-a-Drone-Honey-Bee_mp4-9_jpg.rf.47ece78716f4310b675683678e6a074b.txt\n",
      "13/05/2025  10:41                 0 Wiring-Frame-2_jpg.rf.0518e0233cad3af4c5f3140e1c1bfa4b.txt\n",
      "13/05/2025  10:41                78 Worker-carrying-pollen_jpg.rf.0508b06ba705874e58d4d35a4f382942.txt\n",
      "13/05/2025  10:41               596 workers1_jpg.rf.311a9bd5a990d54cc2f18d6c5c806a6e.txt\n",
      "13/05/2025  10:41                72 yellow-flower-and-bee-dance-sari-cicek-ve-ari-dansi_mp4-1_jpg.rf.6d6a15427c3ae149198cc1af767c7ff5.txt\n",
      "13/05/2025  10:41                72 yellow-flower-and-bee-dance-sari-cicek-ve-ari-dansi_mp4-3_jpg.rf.433cea5138d7a73d9862da02058cf8f0.txt\n",
      "13/05/2025  10:41                72 yellow-flower-and-bee-dance-sari-cicek-ve-ari-dansi_mp4-4_jpg.rf.051c4c9c70e8e5ad97a4fbc92f6c1d5b.txt\n",
      "13/05/2025  10:41                73 yellow-flower-and-bee-dance-sari-cicek-ve-ari-dansi_mp4-5_jpg.rf.a92732540de1d6a7ca5a51f65e35f0a9.txt\n",
      "13/05/2025  10:41                63 yellow-flower-and-bee-dance-sari-cicek-ve-ari-dansi_mp4-6_jpg.rf.ceabd7a6cd6b0ec92dec4c9b284f02d0.txt\n",
      "13/05/2025  10:41                64 yellow-flower-and-bee-dance-sari-cicek-ve-ari-dansi_mp4-7_jpg.rf.7737329aff955231d5117053cb492b58.txt\n",
      "13/05/2025  10:41                66 yellow-flower-and-bee-dance-sari-cicek-ve-ari-dansi_mp4-8_jpg.rf.df5fdb3e2de4b4881ea529c741f9a8c7.txt\n",
      "13/05/2025  10:41                80 _105636026_gettyimages-1005384726_jpg.rf.e70cec75aefb5f691216694edcad8ca3.txt\n",
      "13/05/2025  10:41             1ÿ356 _99191421_gettyimages-801124046_jpg.rf.cf018c6930c40b99edb7e54d07d85c6c.txt\n",
      "13/05/2025  10:41            12ÿ712 _pal0220-2313846937-o_0_jpg.rf.087c633cbda5b34e1eda373b0f90338c.txt\n",
      "13/05/2025  10:41                78 __opt__aboutcom__coeus__resources__content_migration__treehugger__images__2019__10__bee-finger-7162ef974dfb4088b3ca3d424eccfc95_jpg.rf.edb4bb76ae409509c70446141cd92734.txt\n",
      "             611 fichier(s)          362ÿ059 octets\n",
      "               2 R‚p(s)  107ÿ523ÿ473ÿ408 octets libres\n"
     ]
    }
   ],
   "source": [
    "!dir"
   ]
  },
  {
   "cell_type": "code",
   "execution_count": null,
   "id": "f709542ffdbf76a7",
   "metadata": {
    "ExecuteTime": {
     "end_time": "2025-05-26T12:04:13.401015Z",
     "start_time": "2025-05-26T12:04:13.395016Z"
    }
   },
   "outputs": [
    {
     "name": "stdout",
     "output_type": "stream",
     "text": [
      "C:\\Users\\esteb\\Documents\\ESILV\\IGN\\YOLOv10-Test\\Dataset\n"
     ]
    }
   ],
   "source": [
    "%cd .."
   ]
  },
  {
   "cell_type": "code",
   "execution_count": null,
   "id": "b9c714f8a53593be",
   "metadata": {
    "ExecuteTime": {
     "end_time": "2025-05-26T12:03:02.912413Z",
     "start_time": "2025-05-26T12:03:02.904333Z"
    }
   },
   "outputs": [
    {
     "name": "stdout",
     "output_type": "stream",
     "text": [
      "C:\\Users\\esteb\\Documents\\ESILV\\IGN\\YOLOv10-Test\\Dataset\n"
     ]
    }
   ],
   "source": [
    "%cd Dataset"
   ]
  },
  {
   "cell_type": "code",
   "execution_count": null,
   "id": "f19247d4bf12acbc",
   "metadata": {
    "ExecuteTime": {
     "end_time": "2025-05-26T12:00:11.813315Z",
     "start_time": "2025-05-26T12:00:11.809092Z"
    }
   },
   "outputs": [],
   "source": [
    "import shutil\n",
    "import os\n",
    "from tqdm import tqdm"
   ]
  },
  {
   "cell_type": "code",
   "execution_count": null,
   "id": "39193e007597a081",
   "metadata": {
    "ExecuteTime": {
     "end_time": "2025-05-26T12:05:09.534328Z",
     "start_time": "2025-05-26T12:04:15.378070Z"
    }
   },
   "outputs": [
    {
     "name": "stdout",
     "output_type": "stream",
     "text": [
      "[Errno 2] No such file or directory: 'datasets_RF/GeoDanceHive-BeeDataset-1/train/images'\n",
      "/home/ecarrasco/Documents/IGN/IGN-remote/Programmes/YOLOv10/Dataset/ImageUpgrader\n"
     ]
    },
    {
     "name": "stderr",
     "output_type": "stream",
     "text": [
      "Transformation des images:  67%|██████▋   | 8/12 [00:09<00:04,  1.25s/it]\n"
     ]
    },
    {
     "ename": "IsADirectoryError",
     "evalue": "[Errno 21] Is a directory: 'ImagesExtraitesRetenues'",
     "output_type": "error",
     "traceback": [
      "\u001b[31m---------------------------------------------------------------------------\u001b[39m",
      "\u001b[31mIsADirectoryError\u001b[39m                         Traceback (most recent call last)",
      "\u001b[36mCell\u001b[39m\u001b[36m \u001b[39m\u001b[32mIn[15]\u001b[39m\u001b[32m, line 8\u001b[39m\n\u001b[32m      4\u001b[39m get_ipython().run_line_magic(\u001b[33m'\u001b[39m\u001b[33mcd\u001b[39m\u001b[33m'\u001b[39m, \u001b[33m'\u001b[39m\u001b[38;5;132;01m{dossier_img}\u001b[39;00m\u001b[33m'\u001b[39m)\n\u001b[32m      6\u001b[39m \u001b[38;5;28;01mfor\u001b[39;00m image \u001b[38;5;129;01min\u001b[39;00m tqdm(os.listdir(), desc=\u001b[33m\"\u001b[39m\u001b[33mTransformation des images\u001b[39m\u001b[33m\"\u001b[39m):\n\u001b[32m      7\u001b[39m     \u001b[38;5;66;03m#print(image)\u001b[39;00m\n\u001b[32m----> \u001b[39m\u001b[32m8\u001b[39m     \u001b[43mimg_filter\u001b[49m\u001b[43m(\u001b[49m\u001b[43mimage\u001b[49m\u001b[43m)\u001b[49m\n",
      "\u001b[36mCell\u001b[39m\u001b[36m \u001b[39m\u001b[32mIn[13]\u001b[39m\u001b[32m, line 21\u001b[39m, in \u001b[36mimg_filter\u001b[39m\u001b[34m(nom_image)\u001b[39m\n\u001b[32m     20\u001b[39m \u001b[38;5;28;01mdef\u001b[39;00m\u001b[38;5;250m \u001b[39m\u001b[34mimg_filter\u001b[39m(nom_image):\n\u001b[32m---> \u001b[39m\u001b[32m21\u001b[39m     img = \u001b[43mImage\u001b[49m\u001b[43m.\u001b[49m\u001b[43mopen\u001b[49m\u001b[43m(\u001b[49m\u001b[43mnom_image\u001b[49m\u001b[43m)\u001b[49m\n\u001b[32m     23\u001b[39m     \u001b[38;5;28;01mfor\u001b[39;00m y \u001b[38;5;129;01min\u001b[39;00m \u001b[38;5;28mrange\u001b[39m(img.height):\n\u001b[32m     24\u001b[39m         \u001b[38;5;28;01mfor\u001b[39;00m x \u001b[38;5;129;01min\u001b[39;00m \u001b[38;5;28mrange\u001b[39m(img.width):\n",
      "\u001b[36mFile \u001b[39m\u001b[32m~/Documents/IGN/IGN-remote/Programmes/venv/lib/python3.12/site-packages/PIL/Image.py:3505\u001b[39m, in \u001b[36mopen\u001b[39m\u001b[34m(fp, mode, formats)\u001b[39m\n\u001b[32m   3502\u001b[39m     filename = os.fspath(fp)\n\u001b[32m   3504\u001b[39m \u001b[38;5;28;01mif\u001b[39;00m filename:\n\u001b[32m-> \u001b[39m\u001b[32m3505\u001b[39m     fp = \u001b[43mbuiltins\u001b[49m\u001b[43m.\u001b[49m\u001b[43mopen\u001b[49m\u001b[43m(\u001b[49m\u001b[43mfilename\u001b[49m\u001b[43m,\u001b[49m\u001b[43m \u001b[49m\u001b[33;43m\"\u001b[39;49m\u001b[33;43mrb\u001b[39;49m\u001b[33;43m\"\u001b[39;49m\u001b[43m)\u001b[49m\n\u001b[32m   3506\u001b[39m     exclusive_fp = \u001b[38;5;28;01mTrue\u001b[39;00m\n\u001b[32m   3507\u001b[39m \u001b[38;5;28;01melse\u001b[39;00m:\n",
      "\u001b[31mIsADirectoryError\u001b[39m: [Errno 21] Is a directory: 'ImagesExtraitesRetenues'"
     ]
    }
   ],
   "source": [
    "dossier_img = \"datasets_RF/GeoDanceHive-BeeDataset-1/train/images\"\n",
    "dossier_label = \"labels\"\n",
    "\n",
    "%cd {dossier_img}\n",
    "\n",
    "for image in tqdm(os.listdir(), desc=\"Transformation des images\"):\n",
    "    #print(image)\n",
    "    img_filter(image)"
   ]
  },
  {
   "cell_type": "code",
   "execution_count": null,
   "id": "ba0c272d6aab39d0",
   "metadata": {
    "ExecuteTime": {
     "end_time": "2025-05-26T11:53:11.673525Z",
     "start_time": "2025-05-26T11:53:11.049898Z"
    }
   },
   "outputs": [
    {
     "name": "stdout",
     "output_type": "stream",
     "text": [
      "C:\\Users\\esteb\\Documents\\ESILV\\IGN\\YOLOv10-Test\\Dataset\\datasets_RF\\GeoDanceHive-BeeDataset-1\\train\\labels\n"
     ]
    }
   ],
   "source": [
    "#%cd ..\n",
    "#%cd ..\n",
    "\n",
    "%cd {dossier_label}\n",
    "\n",
    "for label in os.listdir():\n",
    "    shutil.copyfile(label, f'FM_{label}')"
   ]
  },
  {
   "cell_type": "markdown",
   "id": "f842872bbe3d286",
   "metadata": {},
   "source": [
    "## Image RIO modifying"
   ]
  },
  {
   "cell_type": "code",
   "execution_count": null,
   "id": "f256cef74d285ec5",
   "metadata": {
    "ExecuteTime": {
     "end_time": "2025-05-28T12:45:47.292927Z",
     "start_time": "2025-05-28T12:45:47.263223Z"
    }
   },
   "outputs": [],
   "source": [
    "image = cv2.imread('modified_image2.jpg')\n",
    "image_ori = cv2.imread('orginalimage.jpg')"
   ]
  },
  {
   "cell_type": "markdown",
   "id": "6f47b7065449fe1e",
   "metadata": {},
   "source": [
    "Transformation à appliquer aux ROI"
   ]
  },
  {
   "cell_type": "code",
   "execution_count": null,
   "id": "6633613beb1c3fc5",
   "metadata": {
    "ExecuteTime": {
     "end_time": "2025-05-28T12:40:11.466191Z",
     "start_time": "2025-05-28T12:40:11.451549Z"
    }
   },
   "outputs": [],
   "source": [
    "# brightness = -100     # -90\n",
    "# contrast = 1.4       # 1.4\n",
    "# saturation = 1.1     # 5\n",
    "\n",
    "transformations = [\n",
    "# (brightness, contrast, saturation)\n",
    "    (-100, 1.4, 1.1),\n",
    "    (-100, 1.4, 1.1),\n",
    "    (-100, 1.4, 1.1),\n",
    "    (-100, 1.4, 1.1)\n",
    "]"
   ]
  },
  {
   "cell_type": "markdown",
   "id": "8895c68ee48946b4",
   "metadata": {},
   "source": [
    "Définition des ROIs"
   ]
  },
  {
   "cell_type": "code",
   "execution_count": null,
   "id": "53a42853fdfcaac",
   "metadata": {
    "ExecuteTime": {
     "end_time": "2025-05-28T12:45:44.497933Z",
     "start_time": "2025-05-28T12:45:44.493621Z"
    }
   },
   "outputs": [],
   "source": [
    "rois = [\n",
    "    (128, 0, 401, 99, -70, 1.3, 1.1),      # Zone 1\n",
    "    (748, 0, 1170, 210, -100, 1.4, 1.1),   # Zone 2\n",
    "    (793, 625, 908, 720, -80, 1.4, 1),     # Zone 3\n",
    "    (15, 411, 524, 720, -80, 1.4, 1)       # Zone 4\n",
    "]"
   ]
  },
  {
   "cell_type": "markdown",
   "id": "dbde3ae7f2de50c",
   "metadata": {},
   "source": [
    "Ajout des parties originales"
   ]
  },
  {
   "cell_type": "code",
   "execution_count": null,
   "id": "54c376ae86c559f",
   "metadata": {
    "ExecuteTime": {
     "end_time": "2025-05-28T12:45:51.612186Z",
     "start_time": "2025-05-28T12:45:51.605278Z"
    }
   },
   "outputs": [],
   "source": [
    "for (x1, y1, x2, y2, b, c, s) in rois:\n",
    "    image[y1:y2, x1:x2] = image_ori[y1:y2, x1:x2]"
   ]
  },
  {
   "cell_type": "markdown",
   "id": "74ac05908a71f7c1",
   "metadata": {},
   "source": [
    "Application des modifications de contrast"
   ]
  },
  {
   "cell_type": "code",
   "execution_count": null,
   "id": "43e0b3bee6c924a0",
   "metadata": {
    "ExecuteTime": {
     "end_time": "2025-05-28T12:45:53.976886Z",
     "start_time": "2025-05-28T12:45:53.935649Z"
    }
   },
   "outputs": [
    {
     "data": {
      "text/plain": [
       "True"
      ]
     },
     "execution_count": 405,
     "metadata": {},
     "output_type": "execute_result"
    }
   ],
   "source": [
    "for (x1, y1, x2, y2, brightness, contrast, saturation) in rois:\n",
    "    roi = image[y1:y2, x1:x2]\n",
    "    roi_mod = cv2.addWeighted(roi, contrast, np.zeros(roi.shape, roi.dtype), 0, brightness)\n",
    "\n",
    "    roi_hsv = cv2.cvtColor(roi_mod, cv2.COLOR_BGR2HSV).astype(np.float32)\n",
    "    roi_hsv[...,1] *= saturation\n",
    "    roi_hsv[...,1] = np.clip(roi_hsv[...,1], 0, 255)\n",
    "    roi_hsv = roi_hsv.astype(np.uint8)\n",
    "    roi_bgr = cv2.cvtColor(roi_hsv, cv2.COLOR_HSV2BGR)\n",
    "\n",
    "    image[y1:y2, x1:x2] = roi_bgr\n",
    "\n",
    "# Sauvegarder l'image\n",
    "cv2.imwrite('modified_image_roi1.jpg', image)\n"
   ]
  },
  {
   "cell_type": "markdown",
   "id": "d6513c6a36825571",
   "metadata": {},
   "source": [
    "![modified_image2.jpg](modified_image2.jpg)\n",
    "![modified_image_roi1.jpg](modified_image_roi1.jpg)"
   ]
  },
  {
   "cell_type": "markdown",
   "id": "39d17a12",
   "metadata": {},
   "source": [
    "# Image filtering with CLAHE"
   ]
  },
  {
   "cell_type": "code",
   "execution_count": null,
   "id": "56e2debc",
   "metadata": {},
   "outputs": [],
   "source": [
    "image = cv2.imread('orginalimage.jpg') "
   ]
  },
  {
   "cell_type": "code",
   "execution_count": null,
   "id": "1fa70484",
   "metadata": {},
   "outputs": [
    {
     "data": {
      "text/plain": [
       "True"
      ]
     },
     "execution_count": 27,
     "metadata": {},
     "output_type": "execute_result"
    }
   ],
   "source": [
    "clahe = cv2.createCLAHE(clipLimit=2.0, tileGridSize=(8, 8)) \n",
    "\n",
    "lab = cv2.cvtColor(image, cv2.COLOR_BGR2LAB) \n",
    "l, a, b = cv2.split(lab) \n",
    "cl = clahe.apply(l) \n",
    "limg = cv2.merge((cl, a, b)) \n",
    "final = cv2.cvtColor(limg, cv2.COLOR_LAB2BGR)\n",
    "\n",
    "cv2.imwrite('clahe-originalimage.jpg', final)"
   ]
  },
  {
   "cell_type": "markdown",
   "id": "9965f803",
   "metadata": {},
   "source": [
    "![original](orginalimage.jpg)\n",
    "![clahe](clahe-originalimage.jpg)"
   ]
  },
  {
   "cell_type": "markdown",
   "id": "74912890",
   "metadata": {},
   "source": [
    "Saturation"
   ]
  },
  {
   "cell_type": "code",
   "execution_count": null,
   "id": "976deea7",
   "metadata": {},
   "outputs": [
    {
     "data": {
      "text/plain": [
       "True"
      ]
     },
     "execution_count": 28,
     "metadata": {},
     "output_type": "execute_result"
    }
   ],
   "source": [
    "hsv = cv2.cvtColor(final, cv2.COLOR_BGR2HSV)\n",
    "h, s, v = cv2.split(hsv)\n",
    "s = cv2.multiply(s, 1.3)  # augmenter la saturation de 30%\n",
    "s = np.clip(s, 0, 255).astype(np.uint8)\n",
    "hsv_mod = cv2.merge((h, s, v))\n",
    "final2 = cv2.cvtColor(hsv_mod, cv2.COLOR_HSV2BGR)\n",
    "\n",
    "cv2.imwrite('clahe+sat-originalimage.jpg', final2)"
   ]
  },
  {
   "cell_type": "markdown",
   "id": "9ef7791f",
   "metadata": {},
   "source": [
    "Netteté"
   ]
  },
  {
   "cell_type": "code",
   "execution_count": null,
   "id": "5a4edf8a",
   "metadata": {},
   "outputs": [
    {
     "data": {
      "text/plain": [
       "True"
      ]
     },
     "execution_count": 29,
     "metadata": {},
     "output_type": "execute_result"
    }
   ],
   "source": [
    "gaussian = cv2.GaussianBlur(final2, (9, 9), 10.0)\n",
    "sharp = cv2.addWeighted(final2, 1.5, gaussian, -0.5, 0)\n",
    "\n",
    "cv2.imwrite('clahe+sharp2-originalimage.jpg', sharp)"
   ]
  },
  {
   "cell_type": "markdown",
   "id": "83a4d6e0",
   "metadata": {},
   "source": [
    "# Générateur final"
   ]
  },
  {
   "cell_type": "markdown",
   "id": "ddb4d65b",
   "metadata": {},
   "source": [
    "### Créateur des fichiers label"
   ]
  },
  {
   "cell_type": "markdown",
   "id": "3e9d0dc4",
   "metadata": {},
   "source": [
    "A partir du fichier annotation data (json) générer un fichier label au format YOLO. Il faut ainsi que sur chaque ligne on est : `class_index` `x_center` `y_center` `width` `height`"
   ]
  },
  {
   "cell_type": "code",
   "execution_count": 1,
   "id": "02433694",
   "metadata": {},
   "outputs": [],
   "source": [
    "import json\n",
    "import os\n",
    "from tqdm import tqdm"
   ]
  },
  {
   "cell_type": "code",
   "execution_count": null,
   "id": "2dea5572",
   "metadata": {},
   "outputs": [],
   "source": [
    "dossier_json = \"ImageUpgrader/annotateImages/json\"\n",
    "dossier_label = \"ImageUpgrader/annotateImages/label\""
   ]
  },
  {
   "cell_type": "code",
   "execution_count": null,
   "id": "4e70d4ea",
   "metadata": {},
   "outputs": [
    {
     "name": "stderr",
     "output_type": "stream",
     "text": [
      "Traitement des fichiers JSON: 100%|██████████| 9/9 [00:00<00:00, 1427.82it/s]\n"
     ]
    }
   ],
   "source": [
    "json_files = [file for file in os.listdir(dossier_json)]\n",
    "\n",
    "\n",
    "for json_file in tqdm(json_files, desc=\"Traitement des fichiers JSON\"):\n",
    "    input_path = os.path.join(dossier_json, json_file)\n",
    "    \n",
    "    with open(input_path, 'r') as f:\n",
    "        data = json.load(f)\n",
    "\n",
    "    boxes = data.get(\"boxes\", [])\n",
    "    img_width = float(data.get(\"width\", 1))\n",
    "    img_height = float(data.get(\"height\", 1))\n",
    "\n",
    "    name = os.path.splitext(json_file)[0]\n",
    "    output_path = os.path.join(dossier_label, name + '.txt')\n",
    "\n",
    "    with open(output_path, 'w') as f_out:\n",
    "        for box in boxes:\n",
    "            if box.get(\"label\") != \"bee\":\n",
    "                continue\n",
    "\n",
    "            classe = 0\n",
    "            x = float(box.get(\"x\"))\n",
    "            y = float(box.get(\"y\"))\n",
    "            width = float(box.get(\"width\"))\n",
    "            height = float(box.get(\"height\"))\n",
    "\n",
    "            # Normalisation par taille image\n",
    "            x_norm = x / img_width\n",
    "            y_norm = y / img_height\n",
    "            width_norm = width / img_width\n",
    "            height_norm = height / img_height\n",
    "\n",
    "            f_out.write(f\"{classe} {x_norm:.6f} {y_norm:.6f} {width_norm:.6f} {height_norm:.6f}\\n\")\n",
    "\n",
    "\n",
    "#print(json_files)"
   ]
  },
  {
   "cell_type": "markdown",
   "id": "32af5e12",
   "metadata": {},
   "source": [
    "#### Pour un label"
   ]
  },
  {
   "cell_type": "code",
   "execution_count": 4,
   "id": "982eb2bf",
   "metadata": {},
   "outputs": [
    {
     "name": "stdout",
     "output_type": "stream",
     "text": [
      "/home/ecarrasco/Documents/IGN/IGN-remote/Programmes/YOLOv10/Dataset\n"
     ]
    }
   ],
   "source": [
    "%cd .."
   ]
  },
  {
   "cell_type": "code",
   "execution_count": 5,
   "id": "26a9251c",
   "metadata": {},
   "outputs": [],
   "source": [
    "import json\n",
    "\n",
    "\n",
    "json_files = \"ImageUpgrader/annotateImages/json/truthImage.json\"\n",
    "output_path = \"ImageUpgrader/annotateImages/label/truthImage.txt\"\n",
    "\n",
    "\n",
    "    \n",
    "with open(json_files, 'r') as f:\n",
    "    data = json.load(f)\n",
    "\n",
    "boxes = data.get(\"boxes\", [])\n",
    "img_width = float(data.get(\"width\", 1))\n",
    "img_height = float(data.get(\"height\", 1))\n",
    "\n",
    "with open(output_path, 'w') as f_out:\n",
    "    for box in boxes:\n",
    "        if box.get(\"label\") != \"bee\":\n",
    "            continue\n",
    "\n",
    "        classe = 0\n",
    "        x = float(box.get(\"x\"))\n",
    "        y = float(box.get(\"y\"))\n",
    "        width = float(box.get(\"width\"))\n",
    "        height = float(box.get(\"height\"))\n",
    "\n",
    "        # Normalisation par taille image\n",
    "        x_norm = x / img_width\n",
    "        y_norm = y / img_height\n",
    "        width_norm = width / img_width\n",
    "        height_norm = height / img_height\n",
    "\n",
    "        f_out.write(f\"{classe} {x_norm:.6f} {y_norm:.6f} {width_norm:.6f} {height_norm:.6f}\\n\")\n",
    "\n",
    "\n",
    "#print(json_files)"
   ]
  },
  {
   "cell_type": "markdown",
   "id": "fa024d74",
   "metadata": {},
   "source": [
    "### Modification des images"
   ]
  },
  {
   "cell_type": "code",
   "execution_count": null,
   "id": "db6ebdea",
   "metadata": {},
   "outputs": [],
   "source": [
    "dossier_imageOriginales = \"FrameExtractor/frames/Record_2022-6-28_13-9-17_csi0.mp4\"\n",
    "dossier_image = \"ImageUpgrader/annotateImages/originalImages\""
   ]
  },
  {
   "cell_type": "markdown",
   "id": "324744f8",
   "metadata": {},
   "source": [
    "Script pour allez chercher les images"
   ]
  },
  {
   "cell_type": "code",
   "execution_count": null,
   "id": "0f013dc8",
   "metadata": {},
   "outputs": [
    {
     "name": "stderr",
     "output_type": "stream",
     "text": [
      "Recherche des images correspondantes: 100%|██████████| 9/9 [00:00<00:00, 748.20it/s]\n"
     ]
    }
   ],
   "source": [
    "json_files = [f for f in os.listdir(dossier_json) if f.endswith('.json')]\n",
    "\n",
    "for json_file in tqdm(json_files, desc=\"Recherche des images correspondantes\"):\n",
    "\n",
    "    name = str(json_file)\n",
    "    image_name = f'{name[2:12]}.jpg'  # Supprime \"up\"\n",
    "    \n",
    "    image_path = os.path.join(dossier_imageOriginales, image_name)\n",
    "\n",
    "    if os.path.exists(image_path):\n",
    "        # Copier l’image dans le dossier de sortie\n",
    "        shutil.copy(image_path, os.path.join(dossier_image, image_name))\n",
    "    else:\n",
    "        print(f\"[!] Image non trouvée pour : {json_file} → {image_name}\")\n",
    "        print(image_path)"
   ]
  },
  {
   "cell_type": "code",
   "execution_count": null,
   "id": "ff4628f5",
   "metadata": {},
   "outputs": [
    {
     "name": "stderr",
     "output_type": "stream",
     "text": [
      "Modification des imgages choisies: 100%|██████████| 9/9 [00:00<00:00, 70.70it/s]\n"
     ]
    }
   ],
   "source": [
    "\n",
    "for file in tqdm(os.listdir(dossier_image), desc=\"Modification des imgages choisies\"):\n",
    "#for file in os.listdir(dossier_image):\n",
    "\n",
    "    name = str(file)\n",
    "    image_name = f'{name[:10]}.jpg'  # Supprime \"up\"\n",
    "\n",
    "    image = cv2.imread(os.path.join(dossier_image, file)) \n",
    "\n",
    "    clahe = cv2.createCLAHE(clipLimit=2.0, tileGridSize=(8, 8)) \n",
    "\n",
    "    # Clahe\n",
    "    #-------------------------------------------\n",
    "    lab = cv2.cvtColor(image, cv2.COLOR_BGR2LAB) \n",
    "    l, a, b = cv2.split(lab) \n",
    "    cl = clahe.apply(l) \n",
    "    limg = cv2.merge((cl, a, b)) \n",
    "    claheimg = cv2.cvtColor(limg, cv2.COLOR_LAB2BGR)\n",
    "\n",
    "\n",
    "    # Saturation\n",
    "    #-------------------------------------------\n",
    "    hsv = cv2.cvtColor(claheimg, cv2.COLOR_BGR2HSV)\n",
    "    h, s, v = cv2.split(hsv)\n",
    "    s = cv2.multiply(s, 1.3)\n",
    "    s = np.clip(s, 0, 255).astype(np.uint8)\n",
    "    hsv_mod = cv2.merge((h, s, v))\n",
    "    satimg = cv2.cvtColor(hsv_mod, cv2.COLOR_HSV2BGR)\n",
    "\n",
    "    # Netteté\n",
    "    #-------------------------------------------\n",
    "    gaussian = cv2.GaussianBlur(satimg, (9, 9), 10.0)\n",
    "    sharpimg = cv2.addWeighted(satimg, 1.5, gaussian, -0.5, 0)\n",
    "\n",
    "    cv2.imwrite(f'ImageUpgrader/annotateImages/modifiedImage/up{image_name}', sharpimg)\n"
   ]
  },
  {
   "cell_type": "markdown",
   "id": "ee3ceb74",
   "metadata": {},
   "source": [
    "#### Pour modifier une seule image"
   ]
  },
  {
   "cell_type": "code",
   "execution_count": 4,
   "id": "736c1007",
   "metadata": {},
   "outputs": [
    {
     "name": "stdout",
     "output_type": "stream",
     "text": [
      "/home/ecarrasco/Documents/IGN/IGN-remote/Programmes/YOLOv10/Dataset\n"
     ]
    }
   ],
   "source": [
    "%cd .."
   ]
  },
  {
   "cell_type": "code",
   "execution_count": 7,
   "id": "a57127d0",
   "metadata": {},
   "outputs": [
    {
     "data": {
      "text/plain": [
       "True"
      ]
     },
     "execution_count": 7,
     "metadata": {},
     "output_type": "execute_result"
    }
   ],
   "source": [
    "import cv2\n",
    "import numpy as np\n",
    "\n",
    "image_choice = \"FrameExtractor/frames/Record_2022-6-28_13-9-17_csi0.mp4/0000017220.jpg\"\n",
    "\n",
    "image = cv2.imread(image_choice) \n",
    "\n",
    "clahe = cv2.createCLAHE(clipLimit=2.0, tileGridSize=(8, 8)) \n",
    "\n",
    "# Clahe\n",
    "#-------------------------------------------\n",
    "lab = cv2.cvtColor(image, cv2.COLOR_BGR2LAB) \n",
    "l, a, b = cv2.split(lab) \n",
    "cl = clahe.apply(l) \n",
    "limg = cv2.merge((cl, a, b)) \n",
    "claheimg = cv2.cvtColor(limg, cv2.COLOR_LAB2BGR)\n",
    "\n",
    "\n",
    "# Saturation\n",
    "#-------------------------------------------\n",
    "hsv = cv2.cvtColor(claheimg, cv2.COLOR_BGR2HSV)\n",
    "h, s, v = cv2.split(hsv)\n",
    "s = cv2.multiply(s, 1.3)\n",
    "s = np.clip(s, 0, 255).astype(np.uint8)\n",
    "hsv_mod = cv2.merge((h, s, v))\n",
    "satimg = cv2.cvtColor(hsv_mod, cv2.COLOR_HSV2BGR)\n",
    "\n",
    "# Netteté\n",
    "#-------------------------------------------\n",
    "gaussian = cv2.GaussianBlur(satimg, (9, 9), 10.0)\n",
    "sharpimg = cv2.addWeighted(satimg, 1.5, gaussian, -0.5, 0)\n",
    "\n",
    "cv2.imwrite(\"ImageUpgrader/Truth/up0000017220.jpg\", sharpimg)\n"
   ]
  },
  {
   "cell_type": "markdown",
   "id": "5c7462bd",
   "metadata": {},
   "source": [
    "#### Pour modifier une seule vidéo"
   ]
  },
  {
   "cell_type": "code",
   "execution_count": 4,
   "id": "092dcf09",
   "metadata": {},
   "outputs": [
    {
     "name": "stdout",
     "output_type": "stream",
     "text": [
      "Extrait1-15s.mp4\n"
     ]
    }
   ],
   "source": [
    "!ls"
   ]
  },
  {
   "cell_type": "code",
   "execution_count": null,
   "id": "d91e5403",
   "metadata": {},
   "outputs": [
    {
     "name": "stdout",
     "output_type": "stream",
     "text": [
      "Can't receive frame (stream end?). Exiting ...\n"
     ]
    }
   ],
   "source": [
    "import numpy as np\n",
    "import cv2\n",
    "\n",
    "cap = cv2.VideoCapture('Extrait1-15s.mp4')\n",
    "\n",
    "# Define the codec and create VideoWriter object\n",
    "fourcc = cv2.VideoWriter_fourcc(*'mp4v')\n",
    "width = int(cap.get(cv2.CAP_PROP_FRAME_WIDTH))\n",
    "height = int(cap.get(cv2.CAP_PROP_FRAME_HEIGHT))\n",
    "fps = cap.get(cv2.CAP_PROP_FPS) or 20.0\n",
    "out = cv2.VideoWriter('output.mp4', fourcc, fps, (width, height))\n",
    "\n",
    "\n",
    "while cap.isOpened():\n",
    "    ret, frame = cap.read()\n",
    "    if not ret:\n",
    "        print(\"Can't receive frame (stream end?). Exiting ...\")\n",
    "        break\n",
    "    \n",
    "\n",
    "    clahe = cv2.createCLAHE(clipLimit=2.0, tileGridSize=(8, 8)) \n",
    "\n",
    "    # Clahe\n",
    "    #-------------------------------------------\n",
    "    lab = cv2.cvtColor(frame, cv2.COLOR_BGR2LAB) \n",
    "    l, a, b = cv2.split(lab) \n",
    "    cl = clahe.apply(l) \n",
    "    limg = cv2.merge((cl, a, b)) \n",
    "    claheimg = cv2.cvtColor(limg, cv2.COLOR_LAB2BGR)\n",
    "\n",
    "\n",
    "    # Saturation\n",
    "    #-------------------------------------------\n",
    "    hsv = cv2.cvtColor(claheimg, cv2.COLOR_BGR2HSV)\n",
    "    h, s, v = cv2.split(hsv)\n",
    "    s = cv2.multiply(s, 1.3)\n",
    "    s = np.clip(s, 0, 255).astype(np.uint8)\n",
    "    hsv_mod = cv2.merge((h, s, v))\n",
    "    satimg = cv2.cvtColor(hsv_mod, cv2.COLOR_HSV2BGR)\n",
    "\n",
    "    # Netteté\n",
    "    #-------------------------------------------\n",
    "    gaussian = cv2.GaussianBlur(satimg, (9, 9), 10.0)\n",
    "    sharpimg = cv2.addWeighted(satimg, 1.5, gaussian, -0.5, 0)\n",
    "\n",
    "    # write the flipped frame\n",
    "    out.write(sharpimg)\n",
    "\n",
    "cap.release()\n",
    "out.release()"
   ]
  },
  {
   "cell_type": "markdown",
   "id": "ee524fa5",
   "metadata": {},
   "source": [
    "### Découpage des images en 8"
   ]
  },
  {
   "cell_type": "code",
   "execution_count": null,
   "id": "9d0a0456",
   "metadata": {},
   "outputs": [],
   "source": [
    "OUTPUT_IMAGE_DIR = 'ImageUpgrader/ImagesExtraitesRetenues/Jeu3/images'\n",
    "OUTPUT_LABEL_DIR = 'ImageUpgrader/ImagesExtraitesRetenues/Jeu3/labels'\n",
    "INPUT_IMAGE_DIR = 'ImageUpgrader/annotateImages/modifiedImage'"
   ]
  },
  {
   "cell_type": "code",
   "execution_count": null,
   "id": "6f39a3de",
   "metadata": {},
   "outputs": [],
   "source": [
    "ROWS = 3  # Découpage vertical\n",
    "COLS = 3  # Découpage horizontal\n",
    "\n",
    "# Préparation des dossiers de sortie\n",
    "os.makedirs(OUTPUT_IMAGE_DIR, exist_ok=True)\n",
    "os.makedirs(OUTPUT_LABEL_DIR, exist_ok=True)"
   ]
  },
  {
   "cell_type": "code",
   "execution_count": null,
   "id": "9886d9cc",
   "metadata": {},
   "outputs": [],
   "source": [
    "\n",
    "def convert_bbox(bbox, orig_w, orig_h, x_offset, y_offset, crop_w, crop_h):\n",
    "    \"\"\"\n",
    "    Convertit les coordonnées bbox d'origine en bbox relative au crop.\n",
    "\n",
    "    Args:\n",
    "        bbox (tuple[float, float, float, float]): données initiales de la bbox (x_center, y_center, width, height)\n",
    "        orig_w (int): largeur de l'image d'origine en px\n",
    "        orig_h (int): hauteur de l'image d'origine en px\n",
    "        x_offset (int): décalage sur x du crop par rapport à l'image d'origine en px\n",
    "        y_offset (int): décalage sur y du crop par rapport à l'image d'origine en px\n",
    "        crop_w (int): largeur du crop en px\n",
    "        crop_h (int): hauteur du crop en px\n",
    "\n",
    "    Returns:\n",
    "        tuple[float, float, float, float]: données convertit de la bbox relativement au crop\n",
    "    \"\"\"\n",
    "\n",
    "    cx, cy, w, h = bbox\n",
    "\n",
    "    # Conversion des coordonnées normalisées en cordonnées absolues (px)\n",
    "    abs_cx = cx * orig_w\n",
    "    abs_cy = cy * orig_h\n",
    "    abs_w = w * orig_w\n",
    "    abs_h = h * orig_h\n",
    "\n",
    "    bbox_area = abs_w * abs_h     # Aire de la bbox\n",
    "    ratio_min = 0.3       # Ratio min pour une bbox valide\n",
    "\n",
    "\n",
    "    x1 = abs_cx - abs_w / 2  # Coin Gauche\n",
    "    y1 = abs_cy - abs_h / 2  # Coin Haut\n",
    "    x2 = abs_cx + abs_w / 2  # Coin Droit\n",
    "    y2 = abs_cy + abs_h / 2  # Coin Bas\n",
    "\n",
    "\n",
    "    # Détermination des coupes\n",
    "    crop_x1, crop_y1 = x_offset, y_offset\n",
    "    crop_x2, crop_y2 = x_offset + crop_w, y_offset + crop_h\n",
    "\n",
    "    # On détecte si une bbox est partiellement ou entièrement dans le crop\n",
    "    inter_x1 = max(x1, crop_x1)\n",
    "    inter_y1 = max(y1, crop_y1)\n",
    "    inter_x2 = min(x2, crop_x2)\n",
    "    inter_y2 = min(y2, crop_y2)\n",
    "\n",
    "    if inter_x1 >= inter_x2 or inter_y1 >= inter_y2:\n",
    "        return None  # Le rectangle d'intersection est vide (la bbox n'est pas dans le crop)\n",
    "\n",
    "    # Nouvelle box dans le crop\n",
    "    new_cx = (inter_x1 + inter_x2) / 2 - crop_x1   # on fait moins crop_x1 pour repositionner dans le repère local du crop\n",
    "    new_cy = (inter_y1 + inter_y2) / 2 - crop_y1\n",
    "    new_w = inter_x2 - inter_x1\n",
    "    new_h = inter_y2 - inter_y1\n",
    "\n",
    "    #print(new_w, new_h, bbox_area)\n",
    "\n",
    "    if ( new_h * new_w ) / bbox_area < ratio_min:\n",
    "        #print('je suis rentré dans la condition')\n",
    "        return None  # La bbox est trop coupée\n",
    "\n",
    "    # Normalisation pour le format YOLO\n",
    "    return [\n",
    "        new_cx / crop_w,\n",
    "        new_cy / crop_h,\n",
    "        new_w / crop_w,\n",
    "        new_h / crop_h\n",
    "    ]"
   ]
  },
  {
   "cell_type": "code",
   "execution_count": null,
   "id": "624648a1",
   "metadata": {},
   "outputs": [
    {
     "name": "stdout",
     "output_type": "stream",
     "text": [
      "datasets_RF\tImageCisors    result_frames  YOLOfromRobotflow.ipynb\n",
      "FrameExtractor\tImageUpgrader  test_frames\n"
     ]
    }
   ],
   "source": [
    "!ls"
   ]
  },
  {
   "cell_type": "code",
   "execution_count": null,
   "id": "ca1e4a9b",
   "metadata": {},
   "outputs": [],
   "source": [
    "for img_file in os.listdir(INPUT_IMAGE_DIR):\n",
    "    if not img_file.lower().endswith(('.jpg', '.jpeg', '.png')):\n",
    "        continue\n",
    "\n",
    "    img_path = os.path.join(INPUT_IMAGE_DIR, img_file)\n",
    "    label_path = os.path.join(dossier_label, os.path.splitext(img_file)[0] + '.txt')\n",
    "\n",
    "    img = cv2.imread(img_path)\n",
    "    \n",
    "    orig_h, orig_w = img.shape[:2] # On récupère la taille de l'image en px\n",
    "    crop_h = orig_h // ROWS\n",
    "    crop_w = orig_w // COLS\n",
    "\n",
    "    # Chargement des labels YOLO\n",
    "    bboxes = []\n",
    "    if os.path.exists(label_path):\n",
    "        with open(label_path, 'r') as f:\n",
    "            for line in f:\n",
    "                parts = line.strip().split()\n",
    "                if len(parts) != 5:\n",
    "                    continue\n",
    "                cls, x, y, w, h = map(float, parts)\n",
    "                bboxes.append((int(cls), [x, y, w, h]))\n",
    "\n",
    "    # Découpe de l’image\n",
    "    for i in range(ROWS):\n",
    "        for j in range(COLS):\n",
    "            x_offset = j * crop_w\n",
    "            y_offset = i * crop_h\n",
    "\n",
    "            crop = img[y_offset:y_offset + crop_h, x_offset:x_offset + crop_w]\n",
    "            crop_name = f\"{os.path.splitext(img_file)[0]}_{i}_{j}.jpg\"\n",
    "            crop_label = f\"{os.path.splitext(img_file)[0]}_{i}_{j}.txt\"\n",
    "\n",
    "            cv2.imwrite(os.path.join(OUTPUT_IMAGE_DIR, crop_name), crop)\n",
    "\n",
    "            # On construit le fichier label\n",
    "            new_labels = []\n",
    "            for cls, bbox in bboxes:\n",
    "                new_bbox = convert_bbox(bbox, orig_w, orig_h, x_offset, y_offset, crop_w, crop_h)\n",
    "                if new_bbox:\n",
    "                    new_labels.append(f\"{cls} {' '.join(f'{v:.6f}' for v in new_bbox)}\")\n",
    "\n",
    "            # On écrit le fichier label\n",
    "            with open(os.path.join(OUTPUT_LABEL_DIR, crop_label), 'w') as f:\n",
    "                f.write('\\n'.join(new_labels) + '\\n' if new_labels else '')"
   ]
  }
 ],
 "metadata": {
  "kernelspec": {
   "display_name": "venv",
   "language": "python",
   "name": "python3"
  },
  "language_info": {
   "codemirror_mode": {
    "name": "ipython",
    "version": 3
   },
   "file_extension": ".py",
   "mimetype": "text/x-python",
   "name": "python",
   "nbconvert_exporter": "python",
   "pygments_lexer": "ipython3",
   "version": "3.12.3"
  }
 },
 "nbformat": 4,
 "nbformat_minor": 5
}
